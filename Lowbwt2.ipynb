{
 "cells": [
  {
   "cell_type": "markdown",
   "metadata": {},
   "source": [
    "# Predict Birth Rate "
   ]
  },
  {
   "cell_type": "markdown",
   "metadata": {},
   "source": [
    "Logistic regression method is used to predict birth rate of children. Hence, birth rate is the target variable. The data is information about the birth mother and are the predictors input into the logistic regression model. They include age, race, smoking status during pregnancy, hisotry of premature labor, history of hypertension, persence of uterine irritability, and number of physician visits during the first trimester. Identification code is also a variable in the dataset but is not a predictor variable. "
   ]
  },
  {
   "cell_type": "markdown",
   "metadata": {},
   "source": [
    "## Table of Contents\n",
    "- [Low Birth Rate Data](#lowbirth_Data)\n",
    "- [Load Libraries](#load_libraries)\n",
    "- [Access data](#access_data)\n",
    "- [Explore Data](#Explore)\n",
    "- [Parse Data](#Parse)\n",
    "- [Split Data into Training and Test set](#training_test)\n",
    "- [Build Logistic Regression Model](#build_model)\n",
    "- [Predict for Test data](#test_data)\n",
    "- [Evaluate the Model](#evaluate_model)\n",
    "- [ROC curve plot](#ROC_plot)"
   ]
  },
  {
   "cell_type": "markdown",
   "metadata": {},
   "source": [
    "<a id=\"lowbirth_Data\"></a>\n",
    "## Low Birth Rate Data \n",
    "The Dataset Source: Hosmer, D.W., Lemeshow, S. and Sturdivant, R.X. (2013) Applied Logistic Regression, 3rd ed., New York: Wiley. This dataset is also part of the aplore3 R package.\n"
   ]
  },
  {
   "cell_type": "markdown",
   "metadata": {},
   "source": [
    " <table style=\"font-size: 16px; text-align: left;\" width=100%>\n",
    "  <tr>\n",
    "  <td width=5% style=\"text-align: center; font-size: 16px\">\n",
    "   </td>\n",
    "   <td width=11% style=\"text-align: left; font-size: 16px\">\n",
    "   <b>Variable</b>\n",
    "   </td>\n",
    "   <td width=53% style=\"text-align: left; font-size: 16px\">\n",
    "   <b> Description</b>\n",
    "   </td>\n",
    "    <td width=31% rowspan=7>\n",
    " \n",
    "   <img src='https://www.thesun.co.uk/wp-content/uploads/2017/01/nintchdbpict000297173575-e1485442893748.jpg?w=620?raw=true'></img>\n",
    "  \n",
    "  </td>\n",
    "  </tr>\n",
    "  <tr>\n",
    "   <td width=5% style=\"text-align: center; font-size: 16px\">\n",
    "     0 \n",
    "   </td>\n",
    "   <td width=11% style=\"text-align: left; font-size: 16px\">\n",
    "     ID \n",
    "   </td>\n",
    "   <td width=53% style=\"text-align: left; font-size: 16px\">\n",
    "     Identification Code\n",
    "   </td>\n",
    "  \n",
    " </tr>\n",
    " <tr>\n",
    "   <td style=\"text-align: center; font-size: 16px\">\n",
    "    1\n",
    "  </td>\n",
    "  <td style=\"text-align: left; font-size: 16px\">\n",
    "   Low \n",
    "  </td>\n",
    "  <td style=\"text-align: left; font-size: 16px\">\n",
    "   Low birth weight (0: >= 2500, 1: < 2500 g). Target variable\n",
    "  </td>\n",
    " </tr>\n",
    " <tr>\n",
    "  <td style=\"text-align: center; font-size: 16px\">\n",
    "   2 \n",
    "  </td>\n",
    "  <td style=\"text-align: left; font-size: 16px\">\n",
    "  Age \n",
    "  </td>\n",
    "  <td  style=\"text-align: left; font-size: 16px\">\n",
    "  Mother’s age in years\n",
    "  </td>\n",
    " </tr>\n",
    " <tr>\n",
    "  <td style=\"text-align: center; font-size: 16px\">\n",
    "  3 \n",
    "  </td>\n",
    "  <td style=\"text-align: left; font-size: 16px\">\n",
    "  Race \n",
    "  </td>\n",
    "  <td style=\"text-align: left; font-size: 16px\">\n",
    "  Race (1: White, 2: Black, 3: Other)\n",
    "  </td>\n",
    " </tr>\n",
    " <tr>\n",
    "  <td style=\"text-align: center; font-size: 16px\">\n",
    "  4 \n",
    "  </td>\n",
    "  <td style=\"text-align: left; font-size: 16px\">\n",
    "  Smoke\n",
    "  </td>\n",
    "  <td style=\"text-align: left; font-size: 16px\">\n",
    "  Smoking status during pregnancy (1: No, 2: Yes)\n",
    "  </td>\n",
    " </tr>\n",
    " <tr>\n",
    "  <td style=\"text-align: center; font-size: 16px\">\n",
    "   5\n",
    "  </td>\n",
    "  <td style=\"text-align: left; font-size: 16px\">\n",
    "  PTL \n",
    "  </td>\n",
    "  <td style=\"text-align: left; font-size: 16px\">\n",
    "  History of premature labor (1: None, 2: One, 3: Two, etc)\n",
    "</tr>\n",
    " <tr>\n",
    "  <td style=\"text-align: center; font-size: 16px\">\n",
    "   6 \n",
    "  </td>\n",
    "  <td style=\"text-align: left; font-size: 16px\">\n",
    "  HT \n",
    "  </td>\n",
    "  <td  style=\"text-align: left; font-size: 16px\">\n",
    "  History of hypertension (1: No, 2: Yes)\n",
    "</td>\n",
    " </tr>\n",
    " <tr>\n",
    "  <td style=\"text-align: center; font-size: 16px\">\n",
    "    7\n",
    "  </td>\n",
    "  <td style=\"text-align: left; font-size: 16px\">\n",
    "   UI \n",
    "  </td>\n",
    "  <td style=\"text-align: left; font-size: 16px\">\n",
    "   Presence of Uterine irritability (1: No, 2: Yes)\n",
    "</td>\n",
    " </tr>\n",
    " <tr>\n",
    "  <td style=\"text-align: center; font-size: 16px\">\n",
    "   8 \n",
    "  </td>\n",
    "  <td style=\"text-align: left; font-size: 16px\">\n",
    "  FTV \n",
    "  </td>\n",
    "  <td  style=\"text-align: left; font-size: 16px\">\n",
    "  Number of physician visits during the first trimester (1: None, 2: One, 3: Two, etc)\n",
    "  </td>\n",
    " </tr>\n",
    "</table>"
   ]
  },
  {
   "cell_type": "markdown",
   "metadata": {},
   "source": [
    "<a id=\"load_libraries\"></a>\n",
    "## Load Libraries\n",
    "\n",
    "The following Spark and Python libraries  are preinstalled in the notebook environment and are loaded by running the next cell."
   ]
  },
  {
   "cell_type": "code",
   "execution_count": 1,
   "metadata": {},
   "outputs": [
    {
     "name": "stderr",
     "output_type": "stream",
     "text": [
      "/opt/ibm/spark/python/lib/pyspark.zip/pyspark/sql/context.py:77: FutureWarning: Deprecated in 3.0.0. Use SparkSession.builder.getOrCreate() instead.\n"
     ]
    }
   ],
   "source": [
    "# PySpark Machine Learning Library\n",
    "from pyspark.ml import Pipeline\n",
    "from pyspark.ml.classification import LogisticRegression\n",
    "from pyspark.ml.feature import HashingTF, Tokenizer\n",
    "from pyspark.sql import Row, SQLContext\n",
    "\n",
    "import os\n",
    "import sys\n",
    "from pyspark import SparkConf\n",
    "from pyspark import SparkContext\n",
    "from pyspark.sql import SQLContext\n",
    "from pyspark.sql.types import *\n",
    "\n",
    "from pyspark.mllib.classification import LogisticRegressionWithSGD\n",
    "from pyspark.mllib.regression import LabeledPoint\n",
    "from numpy import array\n",
    "\n",
    "from pyspark.ml.evaluation import MulticlassClassificationEvaluator\n",
    "# Library for confusion matrix, precision, test error\n",
    "from pyspark.mllib.evaluation import MulticlassMetrics\n",
    "# Library For Area under ROC curve and Area under precision-recall curve\n",
    "from pyspark.mllib.evaluation import BinaryClassificationMetrics\n",
    "\n",
    "import matplotlib.pyplot as plt\n",
    "%matplotlib inline\n",
    "import seaborn as sn\n",
    "\n",
    "# Assign resources to the application\n",
    "sqlContext = SQLContext(sc)\n",
    "\n",
    "# packages for data analysis\n",
    "import numpy as np\n",
    "import pandas as pd"
   ]
  },
  {
   "cell_type": "code",
   "execution_count": 2,
   "metadata": {},
   "outputs": [],
   "source": [
    "# The data will be loaded into an array.\n",
    "# This is the summary of the data structure, including the column position and name.\n",
    "# The first filed starts from position 0. \n",
    "\n",
    "# 0 ID    -  Identification code\n",
    "# 1 Low  -  Low birth weight (0: >= 2500, 1: < 2500 g) -  target variable\n",
    "# 2 Age - Mothers age in years\n",
    "# 3 Race - Race (1: White, 2: Black, 3: Other)\n",
    "# 4 Smoke - Smoking status during pregnancy (1: No, 2: Yes)\n",
    "# 5 PTL - History of premature labor (1: None, 2: One, 3: Two, etc)\n",
    "# 6 HT - History of hypertension (1: No, 2: Yes)\n",
    "# 7 UI - Presence of Uterine irritability (1: No, 2: Yes)\n",
    "# 8 FTV - Number of physician visits during the first trimester (1: None, 2: One, 3: Two, etc)\n",
    "\n",
    "# Label is a target variable. \n",
    "# PersonInfo is a list of independent variables besides unique identifier\n",
    "# PersonID is the unique identifier\n",
    "\n",
    "LabeledDocument = Row(\"PersonID\", \"PersonInfo\", \"label\")\n",
    "\n",
    "# Define a function that parses each raw in CSV file and returns an object of type LabeledDocument\n",
    "\n",
    "def parseDocument(line):\n",
    "    values = [str(x) for x in line.split(',')] \n",
    "    if (values[1]>'0'):\n",
    "      Low = 1.0\n",
    "    else:\n",
    "      Low = 0.0\n",
    "        \n",
    "    textValue = str(values[2]) + \" \" + str(values[3])+\" \" + str(values[4])+\" \" + str(values[5])+ \" \" + str(values[6])+ \" \" + str(values[7])+ \" \" + str(values[8])\n",
    "    return LabeledDocument(values[0], textValue, Low)"
   ]
  },
  {
   "cell_type": "markdown",
   "metadata": {},
   "source": [
    "<a id=\"access_data\"></a>\n",
    "## Access Data\n",
    "To read a file from Object Storage, you must setup the Spark configuration with your Object Storage credentials. \n",
    "\n",
    "To do this, click on the cell below and select the **Insert to code > Insert Spark Session DataFrame** function from the Files tab below the data file you want to work with."
   ]
  },
  {
   "cell_type": "markdown",
   "metadata": {},
   "source": [
    "<div class=\"alert alert-block alert-info\">The following code contains the credentials for a file in your IBM Cloud Object Storage. </div>"
   ]
  },
  {
   "cell_type": "code",
   "execution_count": 3,
   "metadata": {},
   "outputs": [
    {
     "data": {
      "text/plain": [
       "[Row(ID=85, LOW=0, AGE=19, RACE=2, SMOKE=0, PTL=0, HT=0, UI=1, FTV=0),\n",
       " Row(ID=86, LOW=0, AGE=33, RACE=3, SMOKE=0, PTL=0, HT=0, UI=0, FTV=3),\n",
       " Row(ID=87, LOW=0, AGE=20, RACE=1, SMOKE=1, PTL=0, HT=0, UI=0, FTV=1),\n",
       " Row(ID=88, LOW=0, AGE=21, RACE=1, SMOKE=1, PTL=0, HT=0, UI=1, FTV=2),\n",
       " Row(ID=89, LOW=0, AGE=18, RACE=1, SMOKE=1, PTL=0, HT=0, UI=1, FTV=0)]"
      ]
     },
     "execution_count": 3,
     "metadata": {},
     "output_type": "execute_result"
    }
   ],
   "source": [
    "\n",
    "import ibmos2spark, os\n",
    "# @hidden_cell\n",
    "credentials = {\n",
    "    'endpoint': 'https://s3.private.us.cloud-object-storage.appdomain.cloud',\n",
    "    'service_id': 'iam-ServiceId-63c3a4e4-8673-4058-be10-17c4ce281ccb',\n",
    "    'iam_service_endpoint': 'https://iam.cloud.ibm.com/oidc/token',\n",
    "    'api_key': '8Jl-2G0eQKYh8yX_KvRNA8zbfQaQMjDPXxfveD_m7AoF'\n",
    "}\n",
    "\n",
    "configuration_name = 'os_627af2c905754361b75b6afd763afd74_configs'\n",
    "cos = ibmos2spark.CloudObjectStorage(sc, credentials, configuration_name, 'bluemix_cos')\n",
    "\n",
    "from pyspark.sql import SparkSession\n",
    "spark = SparkSession.builder.getOrCreate()\n",
    "df_data_1 = spark.read\\\n",
    "  .format('org.apache.spark.sql.execution.datasources.csv.CSVFileFormat')\\\n",
    "  .option('header', 'true')\\\n",
    "  .option('inferSchema', 'true')\\\n",
    "  .load(cos.url('lowbwt.csv', 'lowbirthweight-donotdelete-pr-6eappgo7coocy2'))\n",
    "df_data_1.take(5)\n"
   ]
  },
  {
   "cell_type": "markdown",
   "metadata": {},
   "source": [
    "<a id=\"Explore\"></a>\n",
    "## Explore Data"
   ]
  },
  {
   "cell_type": "code",
   "execution_count": null,
   "metadata": {},
   "outputs": [],
   "source": [
    "df_data_1.toPandas().describe()"
   ]
  },
  {
   "cell_type": "code",
   "execution_count": 4,
   "metadata": {},
   "outputs": [
    {
     "name": "stdout",
     "output_type": "stream",
     "text": [
      "Number of Births 189\n"
     ]
    }
   ],
   "source": [
    "print('Number of Births', df_data_1.count())"
   ]
  },
  {
   "cell_type": "code",
   "execution_count": 5,
   "metadata": {},
   "outputs": [
    {
     "name": "stdout",
     "output_type": "stream",
     "text": [
      "+---+-----+\n",
      "|Low|count|\n",
      "+---+-----+\n",
      "|  1|   59|\n",
      "|  0|  130|\n",
      "+---+-----+\n",
      "\n"
     ]
    }
   ],
   "source": [
    "#Number of high and low births\n",
    "df_data_1.groupby('Low').count().show()"
   ]
  },
  {
   "cell_type": "code",
   "execution_count": 7,
   "metadata": {},
   "outputs": [
    {
     "name": "stdout",
     "output_type": "stream",
     "text": [
      "+---------+---+---+\n",
      "|SMOKE_Low|  0|  1|\n",
      "+---------+---+---+\n",
      "|        1| 44| 30|\n",
      "|        0| 86| 29|\n",
      "+---------+---+---+\n",
      "\n"
     ]
    },
    {
     "ename": "KeyError",
     "evalue": "'Birthweight_SMOKE'",
     "output_type": "error",
     "traceback": [
      "\u001b[0;31m---------------------------------------------------------------------------\u001b[0m",
      "\u001b[0;31mKeyError\u001b[0m                                  Traceback (most recent call last)",
      "\u001b[0;32m/opt/ibm/conda/miniconda/lib/python/site-packages/pandas/core/indexes/base.py\u001b[0m in \u001b[0;36mget_loc\u001b[0;34m(self, key, method, tolerance)\u001b[0m\n\u001b[1;32m   3360\u001b[0m             \u001b[0;32mtry\u001b[0m\u001b[0;34m:\u001b[0m\u001b[0;34m\u001b[0m\u001b[0;34m\u001b[0m\u001b[0m\n\u001b[0;32m-> 3361\u001b[0;31m                 \u001b[0;32mreturn\u001b[0m \u001b[0mself\u001b[0m\u001b[0;34m.\u001b[0m\u001b[0m_engine\u001b[0m\u001b[0;34m.\u001b[0m\u001b[0mget_loc\u001b[0m\u001b[0;34m(\u001b[0m\u001b[0mcasted_key\u001b[0m\u001b[0;34m)\u001b[0m\u001b[0;34m\u001b[0m\u001b[0;34m\u001b[0m\u001b[0m\n\u001b[0m\u001b[1;32m   3362\u001b[0m             \u001b[0;32mexcept\u001b[0m \u001b[0mKeyError\u001b[0m \u001b[0;32mas\u001b[0m \u001b[0merr\u001b[0m\u001b[0;34m:\u001b[0m\u001b[0;34m\u001b[0m\u001b[0;34m\u001b[0m\u001b[0m\n",
      "\u001b[0;32m/opt/ibm/conda/miniconda/lib/python/site-packages/pandas/_libs/index.pyx\u001b[0m in \u001b[0;36mpandas._libs.index.IndexEngine.get_loc\u001b[0;34m()\u001b[0m\n",
      "\u001b[0;32m/opt/ibm/conda/miniconda/lib/python/site-packages/pandas/_libs/index.pyx\u001b[0m in \u001b[0;36mpandas._libs.index.IndexEngine.get_loc\u001b[0;34m()\u001b[0m\n",
      "\u001b[0;32mpandas/_libs/hashtable_class_helper.pxi\u001b[0m in \u001b[0;36mpandas._libs.hashtable.PyObjectHashTable.get_item\u001b[0;34m()\u001b[0m\n",
      "\u001b[0;32mpandas/_libs/hashtable_class_helper.pxi\u001b[0m in \u001b[0;36mpandas._libs.hashtable.PyObjectHashTable.get_item\u001b[0;34m()\u001b[0m\n",
      "\u001b[0;31mKeyError\u001b[0m: 'Birthweight_SMOKE'",
      "\nThe above exception was the direct cause of the following exception:\n",
      "\u001b[0;31mKeyError\u001b[0m                                  Traceback (most recent call last)",
      "\u001b[0;32m/usr/local/share/jupyter/kernels/python39/scripts/launch_ipykernel.py\u001b[0m in \u001b[0;36m<module>\u001b[0;34m\u001b[0m\n\u001b[1;32m      4\u001b[0m \u001b[0mdf_data_1\u001b[0m\u001b[0;34m.\u001b[0m\u001b[0mcrosstab\u001b[0m\u001b[0;34m(\u001b[0m\u001b[0;34m'SMOKE'\u001b[0m\u001b[0;34m,\u001b[0m \u001b[0;34m'Low'\u001b[0m\u001b[0;34m)\u001b[0m\u001b[0;34m.\u001b[0m\u001b[0mshow\u001b[0m\u001b[0;34m(\u001b[0m\u001b[0;34m)\u001b[0m\u001b[0;34m\u001b[0m\u001b[0;34m\u001b[0m\u001b[0m\n\u001b[1;32m      5\u001b[0m \u001b[0mdf\u001b[0m\u001b[0;34m=\u001b[0m\u001b[0mdf_data_1\u001b[0m\u001b[0;34m.\u001b[0m\u001b[0mcrosstab\u001b[0m\u001b[0;34m(\u001b[0m\u001b[0;34m'SMOKE'\u001b[0m\u001b[0;34m,\u001b[0m \u001b[0;34m'Low'\u001b[0m\u001b[0;34m)\u001b[0m\u001b[0;34m.\u001b[0m\u001b[0mtoPandas\u001b[0m\u001b[0;34m(\u001b[0m\u001b[0;34m)\u001b[0m\u001b[0;34m\u001b[0m\u001b[0;34m\u001b[0m\u001b[0m\n\u001b[0;32m----> 6\u001b[0;31m \u001b[0mdf\u001b[0m\u001b[0;34m.\u001b[0m\u001b[0mplot\u001b[0m\u001b[0;34m.\u001b[0m\u001b[0mbar\u001b[0m\u001b[0;34m(\u001b[0m\u001b[0mx\u001b[0m\u001b[0;34m=\u001b[0m\u001b[0;34m\"Birthweight_SMOKE\"\u001b[0m\u001b[0;34m,\u001b[0m \u001b[0mlegend\u001b[0m\u001b[0;34m=\u001b[0m\u001b[0;32mTrue\u001b[0m \u001b[0;34m,\u001b[0m \u001b[0mtitle\u001b[0m\u001b[0;34m=\u001b[0m\u001b[0;34m\"Birthweight by Smoker Status\"\u001b[0m\u001b[0;34m)\u001b[0m\u001b[0;34m\u001b[0m\u001b[0;34m\u001b[0m\u001b[0m\n\u001b[0m",
      "\u001b[0;32m/opt/ibm/conda/miniconda/lib/python/site-packages/pandas/plotting/_core.py\u001b[0m in \u001b[0;36mbar\u001b[0;34m(self, x, y, **kwargs)\u001b[0m\n\u001b[1;32m   1128\u001b[0m         \u001b[0mother\u001b[0m \u001b[0maxis\u001b[0m \u001b[0mrepresents\u001b[0m \u001b[0ma\u001b[0m \u001b[0mmeasured\u001b[0m \u001b[0mvalue\u001b[0m\u001b[0;34m.\u001b[0m\u001b[0;34m\u001b[0m\u001b[0;34m\u001b[0m\u001b[0m\n\u001b[1;32m   1129\u001b[0m         \"\"\"\n\u001b[0;32m-> 1130\u001b[0;31m         \u001b[0;32mreturn\u001b[0m \u001b[0mself\u001b[0m\u001b[0;34m(\u001b[0m\u001b[0mkind\u001b[0m\u001b[0;34m=\u001b[0m\u001b[0;34m\"bar\"\u001b[0m\u001b[0;34m,\u001b[0m \u001b[0mx\u001b[0m\u001b[0;34m=\u001b[0m\u001b[0mx\u001b[0m\u001b[0;34m,\u001b[0m \u001b[0my\u001b[0m\u001b[0;34m=\u001b[0m\u001b[0my\u001b[0m\u001b[0;34m,\u001b[0m \u001b[0;34m**\u001b[0m\u001b[0mkwargs\u001b[0m\u001b[0;34m)\u001b[0m\u001b[0;34m\u001b[0m\u001b[0;34m\u001b[0m\u001b[0m\n\u001b[0m\u001b[1;32m   1131\u001b[0m \u001b[0;34m\u001b[0m\u001b[0m\n\u001b[1;32m   1132\u001b[0m     @Appender(\n",
      "\u001b[0;32m/opt/ibm/conda/miniconda/lib/python/site-packages/pandas/plotting/_core.py\u001b[0m in \u001b[0;36m__call__\u001b[0;34m(self, *args, **kwargs)\u001b[0m\n\u001b[1;32m    935\u001b[0m                 \u001b[0;32mif\u001b[0m \u001b[0mis_integer\u001b[0m\u001b[0;34m(\u001b[0m\u001b[0mx\u001b[0m\u001b[0;34m)\u001b[0m \u001b[0;32mand\u001b[0m \u001b[0;32mnot\u001b[0m \u001b[0mdata\u001b[0m\u001b[0;34m.\u001b[0m\u001b[0mcolumns\u001b[0m\u001b[0;34m.\u001b[0m\u001b[0mholds_integer\u001b[0m\u001b[0;34m(\u001b[0m\u001b[0;34m)\u001b[0m\u001b[0;34m:\u001b[0m\u001b[0;34m\u001b[0m\u001b[0;34m\u001b[0m\u001b[0m\n\u001b[1;32m    936\u001b[0m                     \u001b[0mx\u001b[0m \u001b[0;34m=\u001b[0m \u001b[0mdata_cols\u001b[0m\u001b[0;34m[\u001b[0m\u001b[0mx\u001b[0m\u001b[0;34m]\u001b[0m\u001b[0;34m\u001b[0m\u001b[0;34m\u001b[0m\u001b[0m\n\u001b[0;32m--> 937\u001b[0;31m                 \u001b[0;32melif\u001b[0m \u001b[0;32mnot\u001b[0m \u001b[0misinstance\u001b[0m\u001b[0;34m(\u001b[0m\u001b[0mdata\u001b[0m\u001b[0;34m[\u001b[0m\u001b[0mx\u001b[0m\u001b[0;34m]\u001b[0m\u001b[0;34m,\u001b[0m \u001b[0mABCSeries\u001b[0m\u001b[0;34m)\u001b[0m\u001b[0;34m:\u001b[0m\u001b[0;34m\u001b[0m\u001b[0;34m\u001b[0m\u001b[0m\n\u001b[0m\u001b[1;32m    938\u001b[0m                     \u001b[0;32mraise\u001b[0m \u001b[0mValueError\u001b[0m\u001b[0;34m(\u001b[0m\u001b[0;34m\"x must be a label or position\"\u001b[0m\u001b[0;34m)\u001b[0m\u001b[0;34m\u001b[0m\u001b[0;34m\u001b[0m\u001b[0m\n\u001b[1;32m    939\u001b[0m                 \u001b[0mdata\u001b[0m \u001b[0;34m=\u001b[0m \u001b[0mdata\u001b[0m\u001b[0;34m.\u001b[0m\u001b[0mset_index\u001b[0m\u001b[0;34m(\u001b[0m\u001b[0mx\u001b[0m\u001b[0;34m)\u001b[0m\u001b[0;34m\u001b[0m\u001b[0;34m\u001b[0m\u001b[0m\n",
      "\u001b[0;32m/opt/ibm/conda/miniconda/lib/python/site-packages/pandas/core/frame.py\u001b[0m in \u001b[0;36m__getitem__\u001b[0;34m(self, key)\u001b[0m\n\u001b[1;32m   3456\u001b[0m             \u001b[0;32mif\u001b[0m \u001b[0mself\u001b[0m\u001b[0;34m.\u001b[0m\u001b[0mcolumns\u001b[0m\u001b[0;34m.\u001b[0m\u001b[0mnlevels\u001b[0m \u001b[0;34m>\u001b[0m \u001b[0;36m1\u001b[0m\u001b[0;34m:\u001b[0m\u001b[0;34m\u001b[0m\u001b[0;34m\u001b[0m\u001b[0m\n\u001b[1;32m   3457\u001b[0m                 \u001b[0;32mreturn\u001b[0m \u001b[0mself\u001b[0m\u001b[0;34m.\u001b[0m\u001b[0m_getitem_multilevel\u001b[0m\u001b[0;34m(\u001b[0m\u001b[0mkey\u001b[0m\u001b[0;34m)\u001b[0m\u001b[0;34m\u001b[0m\u001b[0;34m\u001b[0m\u001b[0m\n\u001b[0;32m-> 3458\u001b[0;31m             \u001b[0mindexer\u001b[0m \u001b[0;34m=\u001b[0m \u001b[0mself\u001b[0m\u001b[0;34m.\u001b[0m\u001b[0mcolumns\u001b[0m\u001b[0;34m.\u001b[0m\u001b[0mget_loc\u001b[0m\u001b[0;34m(\u001b[0m\u001b[0mkey\u001b[0m\u001b[0;34m)\u001b[0m\u001b[0;34m\u001b[0m\u001b[0;34m\u001b[0m\u001b[0m\n\u001b[0m\u001b[1;32m   3459\u001b[0m             \u001b[0;32mif\u001b[0m \u001b[0mis_integer\u001b[0m\u001b[0;34m(\u001b[0m\u001b[0mindexer\u001b[0m\u001b[0;34m)\u001b[0m\u001b[0;34m:\u001b[0m\u001b[0;34m\u001b[0m\u001b[0;34m\u001b[0m\u001b[0m\n\u001b[1;32m   3460\u001b[0m                 \u001b[0mindexer\u001b[0m \u001b[0;34m=\u001b[0m \u001b[0;34m[\u001b[0m\u001b[0mindexer\u001b[0m\u001b[0;34m]\u001b[0m\u001b[0;34m\u001b[0m\u001b[0;34m\u001b[0m\u001b[0m\n",
      "\u001b[0;32m/opt/ibm/conda/miniconda/lib/python/site-packages/pandas/core/indexes/base.py\u001b[0m in \u001b[0;36mget_loc\u001b[0;34m(self, key, method, tolerance)\u001b[0m\n\u001b[1;32m   3361\u001b[0m                 \u001b[0;32mreturn\u001b[0m \u001b[0mself\u001b[0m\u001b[0;34m.\u001b[0m\u001b[0m_engine\u001b[0m\u001b[0;34m.\u001b[0m\u001b[0mget_loc\u001b[0m\u001b[0;34m(\u001b[0m\u001b[0mcasted_key\u001b[0m\u001b[0;34m)\u001b[0m\u001b[0;34m\u001b[0m\u001b[0;34m\u001b[0m\u001b[0m\n\u001b[1;32m   3362\u001b[0m             \u001b[0;32mexcept\u001b[0m \u001b[0mKeyError\u001b[0m \u001b[0;32mas\u001b[0m \u001b[0merr\u001b[0m\u001b[0;34m:\u001b[0m\u001b[0;34m\u001b[0m\u001b[0;34m\u001b[0m\u001b[0m\n\u001b[0;32m-> 3363\u001b[0;31m                 \u001b[0;32mraise\u001b[0m \u001b[0mKeyError\u001b[0m\u001b[0;34m(\u001b[0m\u001b[0mkey\u001b[0m\u001b[0;34m)\u001b[0m \u001b[0;32mfrom\u001b[0m \u001b[0merr\u001b[0m\u001b[0;34m\u001b[0m\u001b[0;34m\u001b[0m\u001b[0m\n\u001b[0m\u001b[1;32m   3364\u001b[0m \u001b[0;34m\u001b[0m\u001b[0m\n\u001b[1;32m   3365\u001b[0m         \u001b[0;32mif\u001b[0m \u001b[0mis_scalar\u001b[0m\u001b[0;34m(\u001b[0m\u001b[0mkey\u001b[0m\u001b[0;34m)\u001b[0m \u001b[0;32mand\u001b[0m \u001b[0misna\u001b[0m\u001b[0;34m(\u001b[0m\u001b[0mkey\u001b[0m\u001b[0;34m)\u001b[0m \u001b[0;32mand\u001b[0m \u001b[0;32mnot\u001b[0m \u001b[0mself\u001b[0m\u001b[0;34m.\u001b[0m\u001b[0mhasnans\u001b[0m\u001b[0;34m:\u001b[0m\u001b[0;34m\u001b[0m\u001b[0;34m\u001b[0m\u001b[0m\n",
      "\u001b[0;31mKeyError\u001b[0m: 'Birthweight_SMOKE'"
     ]
    }
   ],
   "source": [
    "#Draw histogram for all variables\n",
    "def draw_histograms(dataframe, features, rows, cols):\n",
    "    fig=plt.figure(figsize=(20,20))\n",
    "    for i, feature in enumerate(features):\n",
    "        ax=fig.add_subplot(rows,cols,i+1)\n",
    "        dataframe[feature].hist(bins=20,ax=ax,facecolor='green')\n",
    "        ax.set_title(feature+\" Distribution\",color='DarkRed')\n",
    "        \n",
    "    fig.tight_layout()  \n",
    "    plt.show()\n",
    "draw_histograms(df_data_1.toPandas(), df_data_1.toPandas().columns,6,3)"
   ]
  },
  {
   "cell_type": "code",
   "execution_count": 8,
   "metadata": {},
   "outputs": [
    {
     "data": {
      "text/html": [
       "<div>\n",
       "<style scoped>\n",
       "    .dataframe tbody tr th:only-of-type {\n",
       "        vertical-align: middle;\n",
       "    }\n",
       "\n",
       "    .dataframe tbody tr th {\n",
       "        vertical-align: top;\n",
       "    }\n",
       "\n",
       "    .dataframe thead th {\n",
       "        text-align: right;\n",
       "    }\n",
       "</style>\n",
       "<table border=\"1\" class=\"dataframe\">\n",
       "  <thead>\n",
       "    <tr style=\"text-align: right;\">\n",
       "      <th></th>\n",
       "      <th>Low</th>\n",
       "      <th>avg(AGE)</th>\n",
       "    </tr>\n",
       "  </thead>\n",
       "  <tbody>\n",
       "    <tr>\n",
       "      <th>0</th>\n",
       "      <td>0</td>\n",
       "      <td>23.661538</td>\n",
       "    </tr>\n",
       "    <tr>\n",
       "      <th>1</th>\n",
       "      <td>1</td>\n",
       "      <td>22.305085</td>\n",
       "    </tr>\n",
       "  </tbody>\n",
       "</table>\n",
       "</div>"
      ],
      "text/plain": [
       "   Low   avg(AGE)\n",
       "0    0  23.661538\n",
       "1    1  22.305085"
      ]
     },
     "execution_count": 8,
     "metadata": {},
     "output_type": "execute_result"
    }
   ],
   "source": [
    "# Average age by birth weight \n",
    "# Convert Age data type from string to numeric.\n",
    "pdf=df_data_1.toPandas()\n",
    "pdf[\"AGE\"]=pd.to_numeric(pdf.AGE)\n",
    "\n",
    "df=sqlContext.createDataFrame(pdf)\n",
    "\n",
    "PAge=df.groupby(['Low'])\\\n",
    ".agg({\"AGE\": \"AVG\"}).toPandas()\n",
    "PAge"
   ]
  },
  {
   "cell_type": "markdown",
   "metadata": {},
   "source": [
    "### Distribution plots for potential input/predictor variables"
   ]
  },
  {
   "cell_type": "code",
   "execution_count": 9,
   "metadata": {},
   "outputs": [
    {
     "data": {
      "text/plain": [
       "<AxesSubplot:title={'center':'Age distribution'}, ylabel='Frequency'>"
      ]
     },
     "execution_count": 9,
     "metadata": {},
     "output_type": "execute_result"
    },
    {
     "data": {
      "image/png": "[encoded data removed]",
      "text/plain": [
       "<Figure size 432x288 with 1 Axes>"
      ]
     },
     "metadata": {
      "needs_background": "light"
     },
     "output_type": "display_data"
    }
   ],
   "source": [
    "#Age distribution for all mothers\n",
    "df.toPandas()[\"AGE\"].plot.hist(x=\"Age\", title=\"Age distribution\")"
   ]
  },
  {
   "cell_type": "code",
   "execution_count": 10,
   "metadata": {},
   "outputs": [
    {
     "data": {
      "text/plain": [
       "<AxesSubplot:title={'center':'Age distribution for mothers who had low birth rate'}, ylabel='Frequency'>"
      ]
     },
     "execution_count": 10,
     "metadata": {},
     "output_type": "execute_result"
    },
    {
     "data": {
      "image/png": "[encoded data removed]",
      "text/plain": [
       "<Figure size 432x288 with 1 Axes>"
      ]
     },
     "metadata": {
      "needs_background": "light"
     },
     "output_type": "display_data"
    }
   ],
   "source": [
    "# Age distribution for mothers who had low birth rate\n",
    "df_died=df.select('AGE', 'Low').filter(df['Low']=='0')\n",
    "pdf_died=df_died.select('AGE').toPandas()\n",
    "pdf_died.plot.hist('AGE',  color='m',legend=False, title=\"Age distribution for mothers who had low birth rate\")"
   ]
  },
  {
   "cell_type": "code",
   "execution_count": 11,
   "metadata": {},
   "outputs": [
    {
     "data": {
      "text/html": [
       "<div>\n",
       "<style scoped>\n",
       "    .dataframe tbody tr th:only-of-type {\n",
       "        vertical-align: middle;\n",
       "    }\n",
       "\n",
       "    .dataframe tbody tr th {\n",
       "        vertical-align: top;\n",
       "    }\n",
       "\n",
       "    .dataframe thead th {\n",
       "        text-align: right;\n",
       "    }\n",
       "</style>\n",
       "<table border=\"1\" class=\"dataframe\">\n",
       "  <thead>\n",
       "    <tr style=\"text-align: right;\">\n",
       "      <th></th>\n",
       "      <th>RACE</th>\n",
       "      <th>avg(RACE)</th>\n",
       "    </tr>\n",
       "  </thead>\n",
       "  <tbody>\n",
       "    <tr>\n",
       "      <th>0</th>\n",
       "      <td>1</td>\n",
       "      <td>1.0</td>\n",
       "    </tr>\n",
       "    <tr>\n",
       "      <th>1</th>\n",
       "      <td>3</td>\n",
       "      <td>3.0</td>\n",
       "    </tr>\n",
       "    <tr>\n",
       "      <th>2</th>\n",
       "      <td>2</td>\n",
       "      <td>2.0</td>\n",
       "    </tr>\n",
       "  </tbody>\n",
       "</table>\n",
       "</div>"
      ],
      "text/plain": [
       "   RACE  avg(RACE)\n",
       "0     1        1.0\n",
       "1     3        3.0\n",
       "2     2        2.0"
      ]
     },
     "execution_count": 11,
     "metadata": {},
     "output_type": "execute_result"
    }
   ],
   "source": [
    "# Average age by birth weight \n",
    "# Convert Age data type from string to numeric.\n",
    "pdf=df_data_1.toPandas()\n",
    "pdf[\"RACE\"]=pd.to_numeric(pdf.RACE)\n",
    "\n",
    "df=sqlContext.createDataFrame(pdf)\n",
    "\n",
    "PAge=df.groupby(['RACE'])\\\n",
    ".agg({\"RACE\": \"AVG\"}).toPandas()\n",
    "PAge"
   ]
  },
  {
   "cell_type": "code",
   "execution_count": 12,
   "metadata": {},
   "outputs": [
    {
     "data": {
      "text/plain": [
       "<AxesSubplot:title={'center':'Race distribution'}, ylabel='Frequency'>"
      ]
     },
     "execution_count": 12,
     "metadata": {},
     "output_type": "execute_result"
    },
    {
     "data": {
      "image/png": "[encoded data removed]",
      "text/plain": [
       "<Figure size 432x288 with 1 Axes>"
      ]
     },
     "metadata": {
      "needs_background": "light"
     },
     "output_type": "display_data"
    }
   ],
   "source": [
    "#Race distribution for all mothers\n",
    "df.toPandas()[\"RACE\"].plot.hist(x=\"Race\", title=\"Race distribution\")\n",
    "#df.show()"
   ]
  },
  {
   "cell_type": "code",
   "execution_count": 13,
   "metadata": {},
   "outputs": [
    {
     "data": {
      "text/plain": [
       "<AxesSubplot:title={'center':'Race distribution for mothers who had low birth rate'}, ylabel='Frequency'>"
      ]
     },
     "execution_count": 13,
     "metadata": {},
     "output_type": "execute_result"
    },
    {
     "data": {
      "image/png": "[encoded data removed]",
      "text/plain": [
       "<Figure size 432x288 with 1 Axes>"
      ]
     },
     "metadata": {
      "needs_background": "light"
     },
     "output_type": "display_data"
    }
   ],
   "source": [
    "# Race distribution for mothers who had low birth rate\n",
    "df_died=df.select('Race', 'Low').filter(df['Low']=='0')\n",
    "pdf_died=df_died.select('Race').toPandas()\n",
    "pdf_died.plot.hist('Race',  color='m',legend=False, title=\"Race distribution for mothers who had low birth rate\")"
   ]
  },
  {
   "cell_type": "code",
   "execution_count": 14,
   "metadata": {},
   "outputs": [],
   "source": [
    "# Smoke by birth weight \n",
    "# Convert Age data type from string to numeric.\n",
    "pdf=df_data_1.toPandas()\n",
    "pdf[\"SMOKE\"]=pd.to_numeric(pdf.SMOKE)\n",
    "\n",
    "df=sqlContext.createDataFrame(pdf)\n"
   ]
  },
  {
   "cell_type": "code",
   "execution_count": 15,
   "metadata": {},
   "outputs": [
    {
     "data": {
      "text/plain": [
       "<AxesSubplot:title={'center':'Distribution of Smokers'}, ylabel='Frequency'>"
      ]
     },
     "execution_count": 15,
     "metadata": {},
     "output_type": "execute_result"
    },
    {
     "data": {
      "image/png": "[encoded data removed]",
      "text/plain": [
       "<Figure size 432x288 with 1 Axes>"
      ]
     },
     "metadata": {
      "needs_background": "light"
     },
     "output_type": "display_data"
    }
   ],
   "source": [
    "#Smoke(ers) distribution for all mothers\n",
    "df.toPandas()[\"SMOKE\"].plot.hist(x=\"Smoke\", title=\"Distribution of Smokers\")"
   ]
  },
  {
   "cell_type": "code",
   "execution_count": 16,
   "metadata": {},
   "outputs": [
    {
     "data": {
      "text/plain": [
       "<AxesSubplot:title={'center':'Smoker distribution for mothers who had low birth rate'}, ylabel='Frequency'>"
      ]
     },
     "execution_count": 16,
     "metadata": {},
     "output_type": "execute_result"
    },
    {
     "data": {
      "image/png": "[encoded data removed]",
      "text/plain": [
       "<Figure size 432x288 with 1 Axes>"
      ]
     },
     "metadata": {
      "needs_background": "light"
     },
     "output_type": "display_data"
    }
   ],
   "source": [
    "# Race distribution for mothers who had low birth rate\n",
    "df_died=df.select('Smoke', 'Low').filter(df['Low']=='0')\n",
    "pdf_died=df_died.select('Smoke').toPandas()\n",
    "pdf_died.plot.hist('Smoke',  color='m',legend=False, title=\"Smoker distribution for mothers who had low birth rate\")"
   ]
  },
  {
   "cell_type": "code",
   "execution_count": 29,
   "metadata": {},
   "outputs": [],
   "source": [
    "# PTL by birth weight \n",
    "# Convert PTL data type from string to numeric.\n",
    "pdf=df_data_1.toPandas()\n",
    "pdf[\"PTL\"]=pd.to_numeric(pdf.PTL)\n",
    "\n",
    "df=sqlContext.createDataFrame(pdf)"
   ]
  },
  {
   "cell_type": "code",
   "execution_count": 30,
   "metadata": {},
   "outputs": [
    {
     "data": {
      "text/plain": [
       "<AxesSubplot:title={'center':'PTL distribution'}, ylabel='Frequency'>"
      ]
     },
     "execution_count": 30,
     "metadata": {},
     "output_type": "execute_result"
    },
    {
     "data": {
      "image/png": "[encoded data removed]",
      "text/plain": [
       "<Figure size 432x288 with 1 Axes>"
      ]
     },
     "metadata": {
      "needs_background": "light"
     },
     "output_type": "display_data"
    }
   ],
   "source": [
    "#PTL distribution for all mothers\n",
    "df.toPandas()[\"PTL\"].plot.hist(x=\"PTL\", title=\"PTL distribution\")"
   ]
  },
  {
   "cell_type": "code",
   "execution_count": 31,
   "metadata": {},
   "outputs": [
    {
     "data": {
      "text/plain": [
       "<AxesSubplot:title={'center':'PTL distribution for mothers who had low birth rate'}, ylabel='Frequency'>"
      ]
     },
     "execution_count": 31,
     "metadata": {},
     "output_type": "execute_result"
    },
    {
     "data": {
      "image/png": "[encoded data removed]",
      "text/plain": [
       "<Figure size 432x288 with 1 Axes>"
      ]
     },
     "metadata": {
      "needs_background": "light"
     },
     "output_type": "display_data"
    }
   ],
   "source": [
    "# Race distribution for mothers who had low birth rate\n",
    "df_died=df.select('PTL', 'Low').filter(df['Low']=='0')\n",
    "pdf_died=df_died.select('PTL').toPandas()\n",
    "pdf_died.plot.hist('PTL',  color='m',legend=False, title=\"PTL distribution for mothers who had low birth rate\")"
   ]
  },
  {
   "cell_type": "code",
   "execution_count": 33,
   "metadata": {},
   "outputs": [],
   "source": [
    "# HT by birth weight \n",
    "# Convert HT data type from string to numeric.\n",
    "pdf=df_data_1.toPandas()\n",
    "pdf[\"HT\"]=pd.to_numeric(pdf.HT)\n",
    "\n",
    "df=sqlContext.createDataFrame(pdf)"
   ]
  },
  {
   "cell_type": "code",
   "execution_count": 34,
   "metadata": {},
   "outputs": [
    {
     "data": {
      "text/plain": [
       "<AxesSubplot:title={'center':'HT distribution'}, ylabel='Frequency'>"
      ]
     },
     "execution_count": 34,
     "metadata": {},
     "output_type": "execute_result"
    },
    {
     "data": {
      "image/png": "[encoded data removed]",
      "text/plain": [
       "<Figure size 432x288 with 1 Axes>"
      ]
     },
     "metadata": {
      "needs_background": "light"
     },
     "output_type": "display_data"
    }
   ],
   "source": [
    "#HT distribution for all mothers\n",
    "df.toPandas()[\"HT\"].plot.hist(x=\"HT\", title=\"HT distribution\")"
   ]
  },
  {
   "cell_type": "code",
   "execution_count": 35,
   "metadata": {},
   "outputs": [
    {
     "data": {
      "text/plain": [
       "<AxesSubplot:title={'center':'HT distribution for mothers who had low birth rate'}, ylabel='Frequency'>"
      ]
     },
     "execution_count": 35,
     "metadata": {},
     "output_type": "execute_result"
    },
    {
     "data": {
      "image/png": "[encoded data removed]",
      "text/plain": [
       "<Figure size 432x288 with 1 Axes>"
      ]
     },
     "metadata": {
      "needs_background": "light"
     },
     "output_type": "display_data"
    }
   ],
   "source": [
    "# Race distribution for mothers who had low birth rate\n",
    "df_died=df.select('HT', 'Low').filter(df['Low']=='0')\n",
    "pdf_died=df_died.select('HT').toPandas()\n",
    "pdf_died.plot.hist('HT',  color='m',legend=False, title=\"HT distribution for mothers who had low birth rate\")"
   ]
  },
  {
   "cell_type": "code",
   "execution_count": 36,
   "metadata": {},
   "outputs": [],
   "source": [
    "# UI by birth weight \n",
    "# Convert UI data type from string to numeric.\n",
    "pdf=df_data_1.toPandas()\n",
    "pdf[\"UI\"]=pd.to_numeric(pdf.UI)\n",
    "\n",
    "df=sqlContext.createDataFrame(pdf)"
   ]
  },
  {
   "cell_type": "code",
   "execution_count": 37,
   "metadata": {},
   "outputs": [
    {
     "data": {
      "text/plain": [
       "<AxesSubplot:title={'center':'UI distribution'}, ylabel='Frequency'>"
      ]
     },
     "execution_count": 37,
     "metadata": {},
     "output_type": "execute_result"
    },
    {
     "data": {
      "image/png": "[encoded data removed]",
      "text/plain": [
       "<Figure size 432x288 with 1 Axes>"
      ]
     },
     "metadata": {
      "needs_background": "light"
     },
     "output_type": "display_data"
    }
   ],
   "source": [
    "#UI distribution for all mothers\n",
    "df.toPandas()[\"UI\"].plot.hist(x=\"UI\", title=\"UI distribution\")"
   ]
  },
  {
   "cell_type": "code",
   "execution_count": 38,
   "metadata": {},
   "outputs": [
    {
     "data": {
      "text/plain": [
       "<AxesSubplot:title={'center':'UI distribution for mothers who had low birth rate'}, ylabel='Frequency'>"
      ]
     },
     "execution_count": 38,
     "metadata": {},
     "output_type": "execute_result"
    },
    {
     "data": {
      "image/png": "[encoded data removed]",
      "text/plain": [
       "<Figure size 432x288 with 1 Axes>"
      ]
     },
     "metadata": {
      "needs_background": "light"
     },
     "output_type": "display_data"
    }
   ],
   "source": [
    "# Race distribution for mothers who had low birth rate\n",
    "df_died=df.select('UI', 'Low').filter(df['Low']=='0')\n",
    "pdf_died=df_died.select('UI').toPandas()\n",
    "pdf_died.plot.hist('UI',  color='m',legend=False, title=\"UI distribution for mothers who had low birth rate\")"
   ]
  },
  {
   "cell_type": "code",
   "execution_count": 39,
   "metadata": {},
   "outputs": [],
   "source": [
    "# FTV by birth weight \n",
    "# Convert FTV data type from string to numeric.\n",
    "pdf=df_data_1.toPandas()\n",
    "pdf[\"FTV\"]=pd.to_numeric(pdf.FTV)\n",
    "\n",
    "df=sqlContext.createDataFrame(pdf)"
   ]
  },
  {
   "cell_type": "code",
   "execution_count": 40,
   "metadata": {},
   "outputs": [
    {
     "data": {
      "text/plain": [
       "<AxesSubplot:title={'center':'FTV distribution'}, ylabel='Frequency'>"
      ]
     },
     "execution_count": 40,
     "metadata": {},
     "output_type": "execute_result"
    },
    {
     "data": {
      "image/png": "[encoded data removed]",
      "text/plain": [
       "<Figure size 432x288 with 1 Axes>"
      ]
     },
     "metadata": {
      "needs_background": "light"
     },
     "output_type": "display_data"
    }
   ],
   "source": [
    "#UI distribution for all mothers\n",
    "df.toPandas()[\"FTV\"].plot.hist(x=\"FTV\", title=\"FTV distribution\")"
   ]
  },
  {
   "cell_type": "code",
   "execution_count": 41,
   "metadata": {},
   "outputs": [
    {
     "data": {
      "text/plain": [
       "<AxesSubplot:title={'center':'FTV distribution for mothers who had low birth rate'}, ylabel='Frequency'>"
      ]
     },
     "execution_count": 41,
     "metadata": {},
     "output_type": "execute_result"
    },
    {
     "data": {
      "image/png": "[encoded data removed]",
      "text/plain": [
       "<Figure size 432x288 with 1 Axes>"
      ]
     },
     "metadata": {
      "needs_background": "light"
     },
     "output_type": "display_data"
    }
   ],
   "source": [
    "# Race distribution for mothers who had low birth rate\n",
    "df_died=df.select('FTV', 'Low').filter(df['Low']=='0')\n",
    "pdf_died=df_died.select('FTV').toPandas()\n",
    "pdf_died.plot.hist('FTV',  color='m',legend=False, title=\"FTV distribution for mothers who had low birth rate\")"
   ]
  },
  {
   "cell_type": "code",
   "execution_count": null,
   "metadata": {},
   "outputs": [],
   "source": [
    "# Visualization plot?????\n",
    "sn.pairplot(data=df_data_1.toPandas())"
   ]
  },
  {
   "cell_type": "code",
   "execution_count": null,
   "metadata": {},
   "outputs": [],
   "source": [
    "#Correlation Heatmap\n",
    "plt.figure(figsize=(15,15))\n",
    "sn.heatmap(df_data_1.toPandas().corr(), annot=True, linewidths=0.1)"
   ]
  },
  {
   "cell_type": "markdown",
   "metadata": {},
   "source": [
    "<a id=\"Parse\"></a>\n",
    "## Parse Data\n",
    "Loading the data into a `Spark RDD` and output the number of rows and first 5 rows.\n",
    "Each project you create has a bucket in your object storage. You may get the bucket name from the project Settings page. Replace the string `BUCKET` to the bucket name"
   ]
  },
  {
   "cell_type": "code",
   "execution_count": 46,
   "metadata": {},
   "outputs": [
    {
     "name": "stdout",
     "output_type": "stream",
     "text": [
      "Total records in the data set: 190\n",
      "The first 5 rows\n"
     ]
    },
    {
     "data": {
      "text/plain": [
       "['ID,LOW,AGE,RACE,SMOKE,PTL,HT,UI,FTV',\n",
       " '85,0,19,2,0,0,0,1,0',\n",
       " '86,0,33,3,0,0,0,0,3',\n",
       " '87,0,20,1,1,0,0,0,1',\n",
       " '88,0,21,1,1,0,0,1,2']"
      ]
     },
     "execution_count": 46,
     "metadata": {},
     "output_type": "execute_result"
    }
   ],
   "source": [
    "data = sc.textFile(cos.url('lowbwt.csv', 'lowbirthweight-donotdelete-pr-6eappgo7coocy2'))\n",
    "print (\"Total records in the data set:\", data.count())\n",
    "print (\"The first 5 rows\")\n",
    "data.take(5)"
   ]
  },
  {
   "cell_type": "markdown",
   "metadata": {},
   "source": [
    "Create DataFrame from RDD"
   ]
  },
  {
   "cell_type": "code",
   "execution_count": 47,
   "metadata": {},
   "outputs": [
    {
     "name": "stdout",
     "output_type": "stream",
     "text": [
      "Number of records: 189\n",
      "First 5 records: \n"
     ]
    },
    {
     "data": {
      "text/plain": [
       "[Row(PersonID='85', PersonInfo='19 2 0 0 0 1 0', label=0.0),\n",
       " Row(PersonID='86', PersonInfo='33 3 0 0 0 0 3', label=0.0),\n",
       " Row(PersonID='87', PersonInfo='20 1 1 0 0 0 1', label=0.0),\n",
       " Row(PersonID='88', PersonInfo='21 1 1 0 0 1 2', label=0.0),\n",
       " Row(PersonID='89', PersonInfo='18 1 1 0 0 1 0', label=0.0)]"
      ]
     },
     "execution_count": 47,
     "metadata": {},
     "output_type": "execute_result"
    }
   ],
   "source": [
    "#Parse and Load the data into a dataframe. The code calls the parsing function defined above\n",
    "documents = data.filter(lambda s: \"ID\" not in s).map(parseDocument)\n",
    "lowbwt = documents.toDF() # ToDataFrame\n",
    "print (\"Number of records: \" + str(lowbwt.count()))\n",
    "print ( \"First 5 records: \")\n",
    "lowbwt.take(5)"
   ]
  },
  {
   "cell_type": "markdown",
   "metadata": {},
   "source": [
    "<a id=\"training_test\"></a>\n",
    "## Split Data into Training and Test set\n",
    "\n",
    "We divide the data into training and test set.  The training set is used to build the model to be used on future data, and the test set is used to evaluate the model."
   ]
  },
  {
   "cell_type": "code",
   "execution_count": 48,
   "metadata": {},
   "outputs": [
    {
     "name": "stdout",
     "output_type": "stream",
     "text": [
      "Number of records in the training set: 158\n",
      "Number of records in the test set: 31\n",
      "First 20 records in the training set: \n",
      "+--------+--------------+-----+\n",
      "|PersonID|    PersonInfo|label|\n",
      "+--------+--------------+-----+\n",
      "|     100|18 1 1 0 0 0 0|  0.0|\n",
      "|     101|18 1 1 0 0 0 0|  0.0|\n",
      "|     102|15 2 0 0 0 0 0|  0.0|\n",
      "|     103|25 1 1 0 0 0 3|  0.0|\n",
      "|     104|20 3 0 0 0 1 0|  0.0|\n",
      "|     105|28 1 1 0 0 0 1|  0.0|\n",
      "|     107|31 1 0 0 0 1 3|  0.0|\n",
      "|     108|36 1 0 0 0 0 1|  0.0|\n",
      "|     109|28 3 0 0 0 0 0|  0.0|\n",
      "|     111|25 3 0 0 0 1 2|  0.0|\n",
      "|     112|28 1 0 0 0 0 0|  0.0|\n",
      "|     113|17 1 1 0 0 0 0|  0.0|\n",
      "|     114|29 1 0 0 0 0 2|  0.0|\n",
      "|     115|26 2 1 0 0 0 0|  0.0|\n",
      "|     116|17 2 0 0 0 0 1|  0.0|\n",
      "|     117|17 2 0 0 0 0 1|  0.0|\n",
      "|     119|35 2 1 1 0 0 1|  0.0|\n",
      "|     120|25 1 0 0 0 0 1|  0.0|\n",
      "|     121|25 2 0 0 0 0 0|  0.0|\n",
      "|     123|29 1 1 0 0 0 2|  0.0|\n",
      "+--------+--------------+-----+\n",
      "only showing top 20 rows\n",
      "\n"
     ]
    }
   ],
   "source": [
    "# Divide the data into training and test set\n",
    "(train, test) = lowbwt.randomSplit([0.8, 0.2])\n",
    "print (\"Number of records in the training set: \" + str(train.count()))\n",
    "print (\"Number of records in the test set: \" + str(test.count()))\n",
    "# Output first 20 records in the training set\n",
    "print (\"First 20 records in the training set: \")\n",
    "train.show()"
   ]
  },
  {
   "cell_type": "markdown",
   "metadata": {},
   "source": [
    "<a id=\"build_model\"></a>\n",
    "## Build Logistic Regression Model\n",
    "\n",
    "We use the Pipeline of SparkML to build the Logistic Regression Model"
   ]
  },
  {
   "cell_type": "code",
   "execution_count": 49,
   "metadata": {},
   "outputs": [],
   "source": [
    "# set up Logistic Regression using Pipeline of SparkML\n",
    "tokenizer = Tokenizer(inputCol=\"PersonInfo\", outputCol=\"words\")\n",
    "hashingTF = HashingTF(inputCol=tokenizer.getOutputCol(), outputCol=\"features\")\n",
    "lr = LogisticRegression(maxIter=10, regParam=0.01)\n",
    "pipeline = Pipeline(stages=[tokenizer, hashingTF, lr])"
   ]
  },
  {
   "cell_type": "code",
   "execution_count": 50,
   "metadata": {
    "scrolled": true
   },
   "outputs": [],
   "source": [
    "# set up Logistic Regression Model\n",
    "# the stages are executed in order\n",
    "model = pipeline.fit(train)\n",
    "#[stage.coefficients for stage in model.stages if hasattr(stage, \"coefficients\")]\n",
    "# model.stages[2].intercept"
   ]
  },
  {
   "cell_type": "markdown",
   "metadata": {},
   "source": [
    "<a id=\"test_data\"></a>\n",
    "## Predict for Test data"
   ]
  },
  {
   "cell_type": "code",
   "execution_count": 51,
   "metadata": {},
   "outputs": [
    {
     "name": "stdout",
     "output_type": "stream",
     "text": [
      "Row(PersonInfo='32 3 0 0 0 0 2', prediction=0.0, probability=DenseVector([0.6217, 0.3783]))\n",
      "Row(PersonInfo='24 1 1 1 0 0 1', prediction=1.0, probability=DenseVector([0.1247, 0.8753]))\n",
      "Row(PersonInfo='19 1 1 0 0 0 2', prediction=0.0, probability=DenseVector([0.7687, 0.2313]))\n",
      "Row(PersonInfo='19 3 0 0 0 0 0', prediction=0.0, probability=DenseVector([0.9449, 0.0551]))\n",
      "Row(PersonInfo='23 3 0 0 0 0 0', prediction=0.0, probability=DenseVector([0.8478, 0.1522]))\n",
      "Row(PersonInfo='23 3 0 0 0 0 2', prediction=0.0, probability=DenseVector([0.7175, 0.2825]))\n",
      "Row(PersonInfo='20 1 0 2 0 1 1', prediction=1.0, probability=DenseVector([0.261, 0.739]))\n",
      "Row(PersonInfo='32 1 1 1 0 0 4', prediction=0.0, probability=DenseVector([0.7302, 0.2698]))\n",
      "Row(PersonInfo='30 3 0 0 0 0 0', prediction=0.0, probability=DenseVector([0.9547, 0.0453]))\n",
      "Row(PersonInfo='19 2 0 0 0 1 0', prediction=0.0, probability=DenseVector([0.9039, 0.0961]))\n",
      "Row(PersonInfo='21 1 1 0 0 1 2', prediction=1.0, probability=DenseVector([0.3068, 0.6932]))\n",
      "Row(PersonInfo='34 2 1 0 1 0 0', prediction=0.0, probability=DenseVector([0.6521, 0.3479]))\n",
      "Row(PersonInfo='30 1 0 0 0 0 1', prediction=0.0, probability=DenseVector([0.8996, 0.1004]))\n",
      "Row(PersonInfo='24 1 0 0 0 0 1', prediction=0.0, probability=DenseVector([0.5332, 0.4668]))\n",
      "Row(PersonInfo='20 3 0 0 0 0 0', prediction=0.0, probability=DenseVector([0.8376, 0.1624]))\n",
      "Row(PersonInfo='29 1 1 0 0 0 2', prediction=0.0, probability=DenseVector([0.7778, 0.2222]))\n",
      "Row(PersonInfo='20 1 1 0 0 0 0', prediction=0.0, probability=DenseVector([0.6868, 0.3132]))\n",
      "Row(PersonInfo='28 3 0 0 0 0 0', prediction=0.0, probability=DenseVector([0.9036, 0.0964]))\n",
      "Row(PersonInfo='25 1 0 0 0 0 2', prediction=0.0, probability=DenseVector([0.7329, 0.2671]))\n",
      "Row(PersonInfo='16 3 0 0 0 0 1', prediction=0.0, probability=DenseVector([0.9637, 0.0363]))\n",
      "Row(PersonInfo='19 1 0 0 0 0 2', prediction=0.0, probability=DenseVector([0.9039, 0.0961]))\n",
      "Row(PersonInfo='20 2 1 0 0 0 3', prediction=1.0, probability=DenseVector([0.4538, 0.5462]))\n",
      "Row(PersonInfo='20 3 1 0 0 1 0', prediction=1.0, probability=DenseVector([0.3915, 0.6085]))\n",
      "Row(PersonInfo='20 3 0 0 0 0 0', prediction=0.0, probability=DenseVector([0.8376, 0.1624]))\n",
      "Row(PersonInfo='21 3 0 1 0 0 4', prediction=0.0, probability=DenseVector([0.9194, 0.0806]))\n",
      "Row(PersonInfo='23 3 0 0 0 0 0', prediction=0.0, probability=DenseVector([0.8478, 0.1522]))\n",
      "Row(PersonInfo='22 1 1 0 0 0 1', prediction=0.0, probability=DenseVector([0.8751, 0.1249]))\n",
      "Row(PersonInfo='23 1 1 1 0 0 0', prediction=1.0, probability=DenseVector([0.4555, 0.5445]))\n",
      "Row(PersonInfo='17 2 0 0 0 0 2', prediction=0.0, probability=DenseVector([0.78, 0.22]))\n",
      "Row(PersonInfo='14 3 0 0 0 0 2', prediction=0.0, probability=DenseVector([0.5573, 0.4427]))\n",
      "Row(PersonInfo='21 1 1 0 1 0 3', prediction=1.0, probability=DenseVector([0.2216, 0.7784]))\n"
     ]
    }
   ],
   "source": [
    "# Make predictions for test data and print columns of interest\n",
    "prediction = model.transform(test)\n",
    "selected = prediction.select(\"PersonInfo\", \"prediction\", \"probability\")\n",
    "for row in selected.collect():\n",
    "    print (row)"
   ]
  },
  {
   "cell_type": "code",
   "execution_count": 52,
   "metadata": {},
   "outputs": [
    {
     "name": "stdout",
     "output_type": "stream",
     "text": [
      "+----------+-----+\n",
      "|prediction|count|\n",
      "+----------+-----+\n",
      "|0.0       |24   |\n",
      "|1.0       |7    |\n",
      "+----------+-----+\n",
      "\n"
     ]
    }
   ],
   "source": [
    "#Tabulate the predicted outcome\n",
    "prediction.select(\"prediction\").groupBy(\"prediction\").count().show(truncate=False)"
   ]
  },
  {
   "cell_type": "code",
   "execution_count": 53,
   "metadata": {},
   "outputs": [
    {
     "name": "stdout",
     "output_type": "stream",
     "text": [
      "+-----+-----+\n",
      "|label|count|\n",
      "+-----+-----+\n",
      "|0.0  |18   |\n",
      "|1.0  |13   |\n",
      "+-----+-----+\n",
      "\n"
     ]
    }
   ],
   "source": [
    "#Tabulate the actual outcome\n",
    "prediction.select(\"label\").groupBy(\"label\").count().show(truncate=False)"
   ]
  },
  {
   "cell_type": "code",
   "execution_count": 54,
   "metadata": {},
   "outputs": [
    {
     "name": "stdout",
     "output_type": "stream",
     "text": [
      "+----------------+---+---+\n",
      "|label_prediction|0.0|1.0|\n",
      "+----------------+---+---+\n",
      "|             0.0| 15|  3|\n",
      "|             1.0|  9|  4|\n",
      "+----------------+---+---+\n",
      "\n"
     ]
    }
   ],
   "source": [
    "# This table shows:\n",
    "# 1. The number of children with low birthrate\n",
    "# 2. The number of children with high birthrate\n",
    "# 3. The number of children who predicted as low birthrate\n",
    "# 4. The number of children who predicted as high birthrate\n",
    "\n",
    "prediction.crosstab('label', 'prediction').show()"
   ]
  },
  {
   "cell_type": "markdown",
   "metadata": {},
   "source": [
    "<a id=\"evaluate_model\"></a>\n",
    "## Evaluate the Model\n",
    "\n",
    "We evaluate the model on a training set and on a test set.  The purpose is to measure the model's predictive accuracy, including the accuracy for new data."
   ]
  },
  {
   "cell_type": "code",
   "execution_count": 55,
   "metadata": {
    "scrolled": true
   },
   "outputs": [
    {
     "name": "stderr",
     "output_type": "stream",
     "text": [
      "/opt/ibm/spark/python/lib/pyspark.zip/pyspark/sql/context.py:125: FutureWarning: Deprecated in 3.0.0. Use SparkSession.builder.getOrCreate() instead.\n"
     ]
    },
    {
     "name": "stdout",
     "output_type": "stream",
     "text": [
      "Model evaluation for the training data\n",
      "Accuracy = 0.7658227848101266\n",
      "Error = 0.23417721518987344\n",
      "Precision = 0.6451612903225806\n",
      "Recall = 0.43478260869565216\n",
      "F1 Measure = 0.5194805194805194\n"
     ]
    }
   ],
   "source": [
    "# Evaluate the Logistic Regression model on a training set\n",
    "# Select (prediction, true label) and compute test error\n",
    "pred_lr=model.transform(train).select(\"prediction\", \"label\")\n",
    "eval_lr=MulticlassClassificationEvaluator (\n",
    "    labelCol=\"label\", predictionCol=\"prediction\", metricName=\"accuracy\")\n",
    "accuracy_lr=eval_lr.evaluate(pred_lr)\n",
    "# create RDD\n",
    "predictionAndLabels_lr=pred_lr.rdd\n",
    "metrics_lr=MulticlassMetrics(predictionAndLabels_lr)\n",
    "precision_lr=metrics_lr.precision(1.0)\n",
    "recall_lr=metrics_lr.recall(1.0)\n",
    "f1Measure_lr = metrics_lr.fMeasure(1.0, 1.0)\n",
    "print (\"Model evaluation for the training data\")\n",
    "print (\"Accuracy = %s\" %accuracy_lr)\n",
    "print (\"Error = %s\" % (1-accuracy_lr))\n",
    "print (\"Precision = %s\" %precision_lr)\n",
    "print (\"Recall = %s\" %recall_lr)\n",
    "print(\"F1 Measure = %s\" % f1Measure_lr)"
   ]
  },
  {
   "cell_type": "code",
   "execution_count": 56,
   "metadata": {},
   "outputs": [
    {
     "name": "stdout",
     "output_type": "stream",
     "text": [
      "Model evaluation for the test data\n",
      "Accuracy = 0.6129032258064516\n",
      "Error = 0.3870967741935484\n",
      "Precision = 0.5714285714285714\n",
      "Recall = 0.3076923076923077\n",
      "F1 Measure = 0.4\n"
     ]
    }
   ],
   "source": [
    "# Evaluate the Logistic Regression model on a test set\n",
    "# Select (prediction, true label) and compute test error\n",
    "pred_lr=model.transform(test).select(\"prediction\", \"label\")\n",
    "eval_lr=MulticlassClassificationEvaluator (\n",
    "    labelCol=\"label\", predictionCol=\"prediction\", metricName=\"accuracy\")\n",
    "accuracy_lr=eval_lr.evaluate(pred_lr)\n",
    "# create RDD\n",
    "predictionAndLabels_lr=pred_lr.rdd\n",
    "metrics_lr=MulticlassMetrics(predictionAndLabels_lr)\n",
    "precision_lr=metrics_lr.precision(1.0)\n",
    "recall_lr=metrics_lr.recall(1.0)\n",
    "f1Measure_lr = metrics_lr.fMeasure(1.0, 1.0)\n",
    "print (\"Model evaluation for the test data\")\n",
    "print (\"Accuracy = %s\" %accuracy_lr)\n",
    "print (\"Error = %s\" % (1-accuracy_lr))\n",
    "print (\"Precision = %s\" %precision_lr)\n",
    "print (\"Recall = %s\" %recall_lr)\n",
    "print (\"F1 Measure = %s\" % f1Measure_lr)"
   ]
  },
  {
   "cell_type": "code",
   "execution_count": 57,
   "metadata": {},
   "outputs": [
    {
     "name": "stdout",
     "output_type": "stream",
     "text": [
      "Area under PR = 0.5187876639489543\n",
      "Area under ROC = 0.5705128205128206\n"
     ]
    }
   ],
   "source": [
    "bin_lr=BinaryClassificationMetrics(predictionAndLabels_lr)\n",
    "\n",
    "# Area under precision-recall curve\n",
    "print(\"Area under PR = %s\" % bin_lr.areaUnderPR)\n",
    "# Area under Receiver operating characteristic curve\n",
    "print(\"Area under ROC = %s\" % bin_lr.areaUnderROC)"
   ]
  },
  {
   "cell_type": "markdown",
   "metadata": {},
   "source": [
    "<a id=\"ROC_plot\"></a>\n",
    "## ROC Curve Plot\n",
    "The Binary Logistic Regression method returns the pyspark.ml.classification.BinaryLogisticRegressionTrainingSummary object. We may use the roc method to obtain the coordinates of the points on Receiver operating characteristic (ROC) curve.  The coordinates are stored in a Dataframe with two fields FPR=false positive rate and TPR=true positive rate"
   ]
  },
  {
   "cell_type": "code",
   "execution_count": 58,
   "metadata": {},
   "outputs": [
    {
     "name": "stdout",
     "output_type": "stream",
     "text": [
      "+--------------------+--------------------+\n",
      "|                 FPR|                 TPR|\n",
      "+--------------------+--------------------+\n",
      "|                 0.0|                 0.0|\n",
      "|                 0.0|0.021739130434782608|\n",
      "|                 0.0|0.043478260869565216|\n",
      "|0.008928571428571428|0.043478260869565216|\n",
      "|0.008928571428571428| 0.06521739130434782|\n",
      "|0.017857142857142856| 0.06521739130434782|\n",
      "|0.017857142857142856| 0.08695652173913043|\n",
      "|0.017857142857142856| 0.10869565217391304|\n",
      "|0.017857142857142856| 0.13043478260869565|\n",
      "|0.026785714285714284| 0.13043478260869565|\n",
      "|0.026785714285714284| 0.15217391304347827|\n",
      "|0.026785714285714284| 0.17391304347826086|\n",
      "|0.026785714285714284|  0.1956521739130435|\n",
      "|0.026785714285714284| 0.21739130434782608|\n",
      "| 0.03571428571428571| 0.21739130434782608|\n",
      "| 0.03571428571428571|  0.2391304347826087|\n",
      "|0.044642857142857144|  0.2826086956521739|\n",
      "|0.044642857142857144| 0.30434782608695654|\n",
      "| 0.05357142857142857| 0.32608695652173914|\n",
      "| 0.05357142857142857| 0.34782608695652173|\n",
      "+--------------------+--------------------+\n",
      "only showing top 20 rows\n",
      "\n"
     ]
    }
   ],
   "source": [
    "#The firt 20 ROC curve points\n",
    "model.stages[2].summary.roc.show()"
   ]
  },
  {
   "cell_type": "code",
   "execution_count": 59,
   "metadata": {},
   "outputs": [
    {
     "data": {
      "text/plain": [
       "<AxesSubplot:xlabel='FPR'>"
      ]
     },
     "execution_count": 59,
     "metadata": {},
     "output_type": "execute_result"
    },
    {
     "data": {
      "image/png": "[encoded data removed]",
      "text/plain": [
       "<Figure size 432x288 with 1 Axes>"
      ]
     },
     "metadata": {
      "needs_background": "light"
     },
     "output_type": "display_data"
    }
   ],
   "source": [
    "import matplotlib.pyplot as plt\n",
    "%matplotlib inline\n",
    "ROC=model.stages[2].summary.roc\n",
    "df=ROC.toPandas()\n",
    "\n",
    "df.plot(x='FPR', y='TPR', legend=False)"
   ]
  },
  {
   "cell_type": "code",
   "execution_count": null,
   "metadata": {},
   "outputs": [],
   "source": []
  }
 ],
 "metadata": {
  "kernelspec": {
   "display_name": "Python 3 (ipykernel)",
   "language": "python",
   "name": "python3"
  },
  "language_info": {
   "codemirror_mode": {
    "name": "ipython",
    "version": 3
   },
   "file_extension": ".py",
   "mimetype": "text/x-python",
   "name": "python",
   "nbconvert_exporter": "python",
   "pygments_lexer": "ipython3",
   "version": "3.8.12"
  },
  "name": "machineLearningHAVCBluemix.ipynb"
 },
 "nbformat": 4,
 "nbformat_minor": 4
}
