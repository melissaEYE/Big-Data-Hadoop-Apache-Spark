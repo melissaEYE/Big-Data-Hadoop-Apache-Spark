{
 "cells": [
  {
   "cell_type": "markdown",
   "metadata": {},
   "source": [
    "# Learn the basics about notebooks and Apache Spark\n",
    "\n",
    "This notebook introduces you to the basics of analytics notebooks and explains what Apache Spark is and how to use Spark in notebooks. The notebook shows you how to load data into the notebook, parse and explore the data, run queries on the data to extract information, plot your analysis results, and save your result in Object Storage.\n",
    "\n",
    "This notebook runs on Python 3.9 with Spark 3.2, and Cloud Object Storage.\n",
    "\n",
    "## Table of contents\n",
    "- [What is Apache Spark](#apache_spark)\n",
    "- [Employee Attrition Data](#Employee_Attrition_Data)\n",
    "- [Load data](#load_data)\n",
    "- [Working with RDD](#RDD)\n",
    "- [Work with DataFrame](#DataFrame)\n",
    "- [Use Spark SQL](#use_spark_sql)"
   ]
  },
  {
   "cell_type": "markdown",
   "metadata": {},
   "source": [
    "<a id=\"apache_spark\"></a>\n",
    "## What is Apache Spark\n",
    "\n",
    "[Spark](http://spark.apache.org/) is a fast open-source engine for large-scale data processing. It is built for speed and ease of use. Through the advanced DAG execution engine that supports cyclic data flow and in-memory computing, programs can run up to 100 times faster than Hadoop MapReduce in memory, or 10 times faster on disc.\n",
    "\n",
    "Spark consists of the following components:\n",
    "\n",
    "* Spark Core is the underlying computation engine with the fundamental programming abstraction called resilient distributed datasets (RDDs)\n",
    "* Spark SQL provides a new data abstraction called DataFrame for structured data processing with SQL and domain-specific language\n",
    "* MLlib is a scalable machine learning framework for delivering fast distributed algorithms for mining big data\n",
    "* Streaming leverages Spark's fast scheduling capability to perform real-time analysis on streams of new data\n",
    "* GraphX is the graph processing framework for the analysis of graph structured data\n",
    "\n",
    "<img src='https://github.com/carloapp2/SparkPOT/blob/master/spark.png?raw=true' width=\"50%\" height=\"50%\"></img>\n",
    "\n",
    "The Apache Spark driver application uses the predefined SparkContext object to allow the interaction with the driver application. The SparkContext object tells Spark how and where to access a cluster."
   ]
  },
  {
   "cell_type": "markdown",
   "metadata": {},
   "source": [
    "To check the Spark version, run the sc.version command"
   ]
  },
  {
   "cell_type": "code",
   "execution_count": null,
   "metadata": {},
   "outputs": [],
   "source": [
    "sc.version"
   ]
  },
  {
   "cell_type": "code",
   "execution_count": null,
   "metadata": {},
   "outputs": [],
   "source": [
    "#Current date and time\n",
    "import time\n",
    "\n",
    "print (time.asctime( time.localtime(time.time())) );"
   ]
  },
  {
   "cell_type": "markdown",
   "metadata": {},
   "source": [
    "<a id=\"Employee_Attrition_Data\"></a>\n",
    "## Employee Attrition data\n",
    "In this notebook, you will focus on Spark Core and Spark SQL by using the Python API. You will analyze the employee attrition data at https://www.kaggle.com/analystanand/employee-attrition/data.\n",
    "\n",
    "`[, 0]\tID                     Employee Number`  \n",
    "`[, 1]\tsatisfaction_level     Job Satisfaction Level`  \n",
    "`[, 2]\tlast_eval_rating\t   Time since last evaluation in years`  \n",
    "`[, 3]\tprojects_worked        Number of projects completed while at work`  \n",
    "`[, 4]\taverage_monthly_hours  Average number of working hours per month`  \n",
    "`[, 5]\ttime_spend_company     Time spent at the company in years`  \n",
    "`[, 6]\twork_accident          Whether the employee had a workplace accident`  \n",
    "`[, 7]\tpromotion_last_5year   Was an employee promoted over the last 5 years`  \n",
    "`[, 8]\tDepartment             Department in which an employee works`  \n",
    "`[, 9]\tsalary                 Salary level (low, medium, high)`  \n",
    "`[,10]\tAttrition              0=Stayed  1=left the workplace`"
   ]
  },
  {
   "cell_type": "markdown",
   "metadata": {},
   "source": [
    "<a id=\"load_data\"></a>\n",
    "## Load data\n",
    "To load the CSV file to your notebook: \n",
    "\n",
    "1. Click the **Data** icon on the notebook action bar. \n",
    "2. Click on **browse** to add empattrition.csv file.\n",
    "\n",
    "The data file is now listed on the **Files** tab of the **Data** panel and is stored in Object Storage.\n",
    "Place the cursor in the code cell below.  Click on an arrow next to the file name in the right panel and select Insert SparkSession DataFrame."
   ]
  },
  {
   "cell_type": "code",
   "execution_count": null,
   "metadata": {
    "scrolled": true
   },
   "outputs": [],
   "source": []
  },
  {
   "cell_type": "markdown",
   "metadata": {
    "scrolled": true
   },
   "source": [
    "**Navigate to Manage -> Environmental Runtimes and record 1) Total account capacity unit hours used and 2) Remaining account capacity unit hours on the Spark Tutorial answer sheet.**"
   ]
  },
  {
   "cell_type": "markdown",
   "metadata": {},
   "source": [
    "# <a id=\"RDD\"></a>\n",
    "## Working with RDD"
   ]
  },
  {
   "cell_type": "markdown",
   "metadata": {},
   "source": [
    "We use `SparkContext` to load the data into a `Spark RDD` named `ea`.\n",
    "Resilient Distributed Dataset (RDD) is a collection of elements that can be operated on in parallel. RDDs are immutable.  An update requires creating a new RDD.  The Spark driver application distributes the work across the cluster.\n",
    "\n",
    "You can construct RDDs by parallelizing existing Python collections (lists), by manipulating RDDs, or by manipulating files in HDFS or any other storage system.\n",
    "\n",
    "You can run these types of methods on RDDs: \n",
    " - Actions: query the data and return values\n",
    " - Transformations: manipulate data values and return pointers to new RDDs. \n",
    "\n",
    "Find more information on Python methods in the <a href=\"http://spark.apache.org/docs/latest/api/python/pyspark.html\" target=\"_blank\" rel=\"noopener noreferrer\">PySpark documentation</a>."
   ]
  },
  {
   "cell_type": "code",
   "execution_count": null,
   "metadata": {},
   "outputs": [],
   "source": [
    "#Replace 'BUCKET' with the bucket name for your project\n",
    "ea = sc.textFile(cos.url('empattrition.csv', 'BUCKET'))\n",
    "ea.take(5)"
   ]
  },
  {
   "cell_type": "markdown",
   "metadata": {},
   "source": [
    "### Instantiate RDD"
   ]
  },
  {
   "cell_type": "markdown",
   "metadata": {},
   "source": [
    "You can now access the data by using the preconfigured `SparkContext` function in your notebook."
   ]
  },
  {
   "cell_type": "markdown",
   "metadata": {},
   "source": [
    "The RDD you created is a collection of strings corresponding to the individual lines in the raw data file. It is also important to remember that the RDD is defined but not instantiated. By applying an action like `count` to the RDD, you effectively instantiate the RDD."
   ]
  },
  {
   "cell_type": "code",
   "execution_count": null,
   "metadata": {},
   "outputs": [],
   "source": [
    "# We subtract 1 from the count to obtain the number of employees because the first row is the column headings\n",
    "print (\"Total number of employee records:\", ea.count()-1)"
   ]
  },
  {
   "cell_type": "markdown",
   "metadata": {},
   "source": [
    "Apply another action to the same RDD.  Read the first row."
   ]
  },
  {
   "cell_type": "code",
   "execution_count": null,
   "metadata": {},
   "outputs": [],
   "source": [
    "print (\"The first row:\", ea.first())"
   ]
  },
  {
   "cell_type": "markdown",
   "metadata": {},
   "source": [
    "### Parse Data"
   ]
  },
  {
   "cell_type": "markdown",
   "metadata": {},
   "source": [
    "To begin working with the data, you need to parse it into columns. You can do this by mapping each line in the RDD to a function that splits the line by commas.\n",
    "\n",
    "map(func): transformation function that returns a new RDD with the results of running the specified function on each element\n",
    "\n",
    "The lambda notation in Python is used to create anonymous functions which are not bound to a name. The function is passed as a parameter to the `map` function. The anonymous function splits each line from the `ea` RDD  at comma boundaries. Hence, the new `eaParse` RDD is a list of sub-lists. Each parent list in `eaParse` corresponds to a line in `ea`. The strings in each sub-list are the individual row elements."
   ]
  },
  {
   "cell_type": "code",
   "execution_count": null,
   "metadata": {},
   "outputs": [],
   "source": [
    "eaParse = ea.map(lambda line : line.split(\",\"))"
   ]
  },
  {
   "cell_type": "raw",
   "metadata": {},
   "source": [
    "Check the first row in eaParse RDD"
   ]
  },
  {
   "cell_type": "code",
   "execution_count": null,
   "metadata": {},
   "outputs": [],
   "source": [
    "# The first row in eaParse RDD contains the column names\n",
    "eaParse.first()"
   ]
  },
  {
   "cell_type": "markdown",
   "metadata": {},
   "source": [
    "The row elements are numbered starting from zero.  Display the first element in the first row."
   ]
  },
  {
   "cell_type": "code",
   "execution_count": null,
   "metadata": {},
   "outputs": [],
   "source": [
    "eaParse.first()[0]"
   ]
  },
  {
   "cell_type": "markdown",
   "metadata": {},
   "source": [
    "Display the third element in the first row"
   ]
  },
  {
   "cell_type": "code",
   "execution_count": null,
   "metadata": {},
   "outputs": [],
   "source": [
    "eaParse.first()[2]"
   ]
  },
  {
   "cell_type": "markdown",
   "metadata": {},
   "source": [
    "Display the last element.  -1 is the position of the last element"
   ]
  },
  {
   "cell_type": "code",
   "execution_count": null,
   "metadata": {},
   "outputs": [],
   "source": [
    "eaParse.first()[-1]"
   ]
  },
  {
   "cell_type": "markdown",
   "metadata": {},
   "source": [
    "### Filtering Data\n",
    "filter(func): transformation function that returns a new RDD with the elements for which the specified function is true"
   ]
  },
  {
   "cell_type": "code",
   "execution_count": null,
   "metadata": {},
   "outputs": [],
   "source": [
    "# eaSatisfaction is a copy of eaParse with the first row removed\n",
    "#You need to specify a new RDD name because RDDs are immutable\n",
    "eaSatisfaction = eaParse.filter(lambda x: x[0] !=\"ID\")\n",
    "eaSatisfaction.take(5)"
   ]
  },
  {
   "cell_type": "markdown",
   "metadata": {},
   "source": [
    "### Calculate the average job satisfaction per department"
   ]
  },
  {
   "cell_type": "markdown",
   "metadata": {},
   "source": [
    "The `eaSatisfaction` RDD contains a list of pairs (v1, v2), where v1 is a department name and v2 is a job satisfaction for one employee. Table 1. illustrates this structure."
   ]
  },
  {
   "cell_type": "markdown",
   "metadata": {},
   "source": [
    "#### Table 1.\n",
    "\n",
    "<table border=1 style=\"width:80%\" align=\"left\">\n",
    "  <tr>\n",
    "    <th>Key</th><th>Value</th>\n",
    "  </tr>\n",
    "  <tr>\n",
    "    <td>Sales</td><td>Value 1</td>\n",
    "  </tr>\n",
    "  <tr>\n",
    "    <td> IT</td><td>Value 2</td>\n",
    "  </tr>\n",
    "    <tr>\n",
    "    <td>Sales</td><td>Value 3</td>\n",
    "  </tr>\n",
    "    <tr>\n",
    "    <td>IT</td><td>Value 4</td>\n",
    "  </tr>\n",
    "    <tr>\n",
    "    <td>hr</td><td>Value 5</td>\n",
    "  </tr>\n",
    "  <tr>\n",
    "    <td>...</td><td>...</td>\n",
    "  </tr>\n",
    "</table>\n",
    "<p>"
   ]
  },
  {
   "cell_type": "markdown",
   "metadata": {},
   "source": [
    "Transform (map) this data set into a new one where each row (data pair) is augmented with the value `1`. Table 2. shows this new structure."
   ]
  },
  {
   "cell_type": "code",
   "execution_count": null,
   "metadata": {},
   "outputs": [],
   "source": [
    "eaCountByKey = eaSatisfaction.map(lambda x : (x[8], (float(x[1]), 1)))\n",
    "eaCountByKey.take(5)"
   ]
  },
  {
   "cell_type": "markdown",
   "metadata": {},
   "source": [
    "#### Table 2.\n",
    "\n",
    "<table border=\"1\" style=\"width:80%\" align=\"left\">\n",
    "  <tr>\n",
    "    <th>Key</th><th>Value</th>\n",
    "  </tr>\n",
    "  <tr>\n",
    "    <td>Sales</td><td>(Value 1,1)</td>\n",
    "  </tr>\n",
    "  <tr>\n",
    "    <td>IT</td><td>(Value 2,1)</td>\n",
    "  </tr>\n",
    "    <tr>\n",
    "    <td>Sales</td><td>(Value 3,1)</td>\n",
    "  </tr>\n",
    "    <tr>\n",
    "    <td>IT</td><td>(Value 4,1)</td>\n",
    "  </tr>\n",
    "    <tr>\n",
    "    <td>hr</td><td>(Value 5,1)</td>\n",
    "  </tr>\n",
    "  <tr>\n",
    "    <td>...</td><td>...</td>\n",
    "  </tr>\n",
    "</table>\n",
    "<p>"
   ]
  },
  {
   "cell_type": "markdown",
   "metadata": {},
   "source": [
    "Reduce the data representation in Table 2 into the Table 3 representation."
   ]
  },
  {
   "cell_type": "code",
   "execution_count": null,
   "metadata": {},
   "outputs": [],
   "source": [
    "eaAddByKey = eaCountByKey.reduceByKey(lambda v1,v2 : (v1[0]+v2[0], v1[1]+v2[1]))\n",
    "eaAddByKey.take(10)"
   ]
  },
  {
   "cell_type": "markdown",
   "metadata": {},
   "source": [
    "#### Table 3.\n",
    "\n",
    "<table border=\"1\" style=\"width:80%\" align=\"left\">\n",
    "  <tr>\n",
    "    <th>Key</th><th>Value</th>\n",
    "  </tr>\n",
    "  <tr>\n",
    "    <td>Sales</td><td>(Value 1 + Value 3,2)</td>\n",
    "  </tr>\n",
    "  <tr>\n",
    "    <td>IT</td><td>(Value 2 + Value 4,2)</td>\n",
    "  </tr>\n",
    "    <tr>\n",
    "    <td>hr</td><td>(Value 5,1)</td>\n",
    "  </tr>\n",
    "  <tr>\n",
    "    <td>...</td><td>...</td>\n",
    "  </tr>\n",
    "</table>\n",
    "<p>"
   ]
  },
  {
   "cell_type": "markdown",
   "metadata": {},
   "source": [
    "Compute the average job satisfaction per department. Create the `eaAverages` RDD by mapping the `eaAddByKey` RDD through a function that divides the sum of satisfaction scores by number employees in the department."
   ]
  },
  {
   "cell_type": "code",
   "execution_count": null,
   "metadata": {},
   "outputs": [],
   "source": [
    "eaAverages = eaAddByKey.map(lambda k: (k[0], k[1][0] / float(k[1][1] ) ) )\n",
    "eaAverages.take(10)"
   ]
  },
  {
   "cell_type": "markdown",
   "metadata": {},
   "source": [
    "Print the department names and corresponding average job satisfaction"
   ]
  },
  {
   "cell_type": "code",
   "execution_count": null,
   "metadata": {},
   "outputs": [],
   "source": [
    "for pair in eaAverages.top(10):\n",
    "    print (\"Department: \", pair[0], \" Average Satisfaction Score: \", pair[1])"
   ]
  },
  {
   "cell_type": "markdown",
   "metadata": {},
   "source": [
    "### Plot the results"
   ]
  },
  {
   "cell_type": "code",
   "execution_count": null,
   "metadata": {},
   "outputs": [],
   "source": [
    "department=[]\n",
    "satisfaction=[]\n",
    "for pair in eaAverages.top(10):\n",
    "    department.append(pair[0])\n",
    "    satisfaction.append(pair[1])"
   ]
  },
  {
   "cell_type": "code",
   "execution_count": null,
   "metadata": {},
   "outputs": [],
   "source": [
    "#import the matplotlib pyplot module and specify display plots inline\n",
    "%matplotlib inline\n",
    "import numpy as np\n",
    "import matplotlib.pyplot as plt\n",
    "\n",
    "N = 10\n",
    "index = np.arange(N)  \n",
    "bar_width = 0.5\n",
    "\n",
    "plt.bar(index, satisfaction, bar_width,\n",
    "                 color='r')\n",
    "plt.xlabel('Department')\n",
    "plt.ylabel('Average Satisfaction')\n",
    "plt.title('Average Job Satisfaction per Department')\n",
    "plt.xticks(index + bar_width/2, department, rotation=90)\n",
    "plt.show()"
   ]
  },
  {
   "cell_type": "markdown",
   "metadata": {},
   "source": [
    "<a id=\"DataFrame\"></a>\n",
    "## Working with DataFrame\n",
    "A DataFrame is a two-dimensional data structure organized into rows and named columns.\n",
    "We will explore the data loaded in df_data_1 DataFrame.  We start from inspecting the data."
   ]
  },
  {
   "cell_type": "markdown",
   "metadata": {},
   "source": [
    "### Inspecting Data"
   ]
  },
  {
   "cell_type": "code",
   "execution_count": null,
   "metadata": {},
   "outputs": [],
   "source": [
    "# Number of rows in a DataFrame\n",
    "print('Number of employees:', df_data_1.count())"
   ]
  },
  {
   "cell_type": "code",
   "execution_count": null,
   "metadata": {},
   "outputs": [],
   "source": [
    "# The columns list\n",
    "df_data_1.columns"
   ]
  },
  {
   "cell_type": "code",
   "execution_count": null,
   "metadata": {},
   "outputs": [],
   "source": [
    "# Number of columns\n",
    "len(df_data_1.columns)"
   ]
  },
  {
   "cell_type": "code",
   "execution_count": null,
   "metadata": {},
   "outputs": [],
   "source": [
    "# Returns the columns and their data types\n",
    "df_data_1.printSchema()"
   ]
  },
  {
   "cell_type": "code",
   "execution_count": null,
   "metadata": {},
   "outputs": [],
   "source": [
    "# Print the (logical and physical) plans\n",
    "df_data_1.explain()"
   ]
  },
  {
   "cell_type": "code",
   "execution_count": null,
   "metadata": {},
   "outputs": [],
   "source": [
    "#returns first observation\n",
    "df_data_1.head()"
   ]
  },
  {
   "cell_type": "code",
   "execution_count": null,
   "metadata": {},
   "outputs": [],
   "source": [
    "#Returns the first 2 observations\n",
    "df_data_1.head(2)"
   ]
  },
  {
   "cell_type": "code",
   "execution_count": null,
   "metadata": {
    "scrolled": true
   },
   "outputs": [],
   "source": [
    "#Returns the first 2 rows.  The data is displayed under the column names\n",
    "df_data_1.show(2)"
   ]
  },
  {
   "cell_type": "code",
   "execution_count": null,
   "metadata": {},
   "outputs": [],
   "source": [
    "#summary statistics for 1 variable\n",
    "df_data_1.describe( 'satisfaction_level').show()"
   ]
  },
  {
   "cell_type": "code",
   "execution_count": null,
   "metadata": {},
   "outputs": [],
   "source": [
    "#summary statistics for 2 variables\n",
    "df_data_1.describe( 'satisfaction_level', 'time_spend_company').show()"
   ]
  },
  {
   "cell_type": "code",
   "execution_count": null,
   "metadata": {},
   "outputs": [],
   "source": [
    "#Describe for non-numeric column -  Minimum and maximum is based on ASCI value\n",
    "df_data_1.describe( 'Department').show()"
   ]
  },
  {
   "cell_type": "markdown",
   "metadata": {},
   "source": [
    "## <span style=\"color:red\">Graded Exercise 1</span>\n",
    "Write and run the code to show the summary statistics for average_monthly_hours"
   ]
  },
  {
   "cell_type": "code",
   "execution_count": null,
   "metadata": {},
   "outputs": [],
   "source": []
  },
  {
   "cell_type": "markdown",
   "metadata": {},
   "source": [
    "### Selecting Data"
   ]
  },
  {
   "cell_type": "code",
   "execution_count": null,
   "metadata": {},
   "outputs": [],
   "source": [
    "#Show the specified columns\n",
    "df_data_1.select('Department', 'satisfaction_level', 'salary', 'Attrition').show(10)"
   ]
  },
  {
   "cell_type": "markdown",
   "metadata": {},
   "source": [
    "### <span style=\"color:red\">Graded Exercise 2</span>\n",
    "Write and run the code to select ID, department, salary, Attrition and show the first 5 rows."
   ]
  },
  {
   "cell_type": "code",
   "execution_count": null,
   "metadata": {},
   "outputs": [],
   "source": []
  },
  {
   "cell_type": "code",
   "execution_count": null,
   "metadata": {},
   "outputs": [],
   "source": [
    "# Rename the column in the output.  For instance, abbreviate satisfaction_level as sl \n",
    "df_data_1.select('Department', 'satisfaction_level', 'salary', 'Attrition').withColumnRenamed('satisfaction_level', 'sl').show(10)"
   ]
  },
  {
   "cell_type": "code",
   "execution_count": null,
   "metadata": {},
   "outputs": [],
   "source": [
    "# List the distinct values.  For instance, list the department names\n",
    "df_data_1.select('Department').distinct().show()"
   ]
  },
  {
   "cell_type": "markdown",
   "metadata": {},
   "source": [
    "### <span style=\"color:red\">Graded Exercise 3</span>\n",
    "Write and run the code to display the distinct salary values."
   ]
  },
  {
   "cell_type": "code",
   "execution_count": null,
   "metadata": {},
   "outputs": [],
   "source": []
  },
  {
   "cell_type": "code",
   "execution_count": null,
   "metadata": {},
   "outputs": [],
   "source": [
    "#Return the number of distinct values in a column.  For instance, return the number of departments\n",
    "df_data_1.select('Department').distinct().count()"
   ]
  },
  {
   "cell_type": "code",
   "execution_count": null,
   "metadata": {},
   "outputs": [],
   "source": [
    "# First 20 employees with the job satisfaction above 9.8\n",
    "df_data_1.select('Department', 'satisfaction_level', 'salary', 'Attrition').filter(df_data_1['satisfaction_level']>9.8).show()"
   ]
  },
  {
   "cell_type": "markdown",
   "metadata": {},
   "source": [
    "### <span style=\"color:red\">Graded Exercise 4</span>\n",
    "Modify and run the code from Graded exercise 2 to return the ID, department, salary, Attrition for the first 5 employees in hr department."
   ]
  },
  {
   "cell_type": "code",
   "execution_count": null,
   "metadata": {},
   "outputs": [],
   "source": []
  },
  {
   "cell_type": "code",
   "execution_count": null,
   "metadata": {},
   "outputs": [],
   "source": [
    "# Department name ends with 'ing'\n",
    "df_data_1.select('Department', 'satisfaction_level', 'salary', 'Attrition').filter(df_data_1.Department.endswith(\"ing\")).show()"
   ]
  },
  {
   "cell_type": "code",
   "execution_count": null,
   "metadata": {},
   "outputs": [],
   "source": [
    "#Satisfaction between 0.1 and 1\n",
    "df_data_1.select('department', 'satisfaction_level', 'salary', 'Attrition').filter(df_data_1.satisfaction_level.between(0.1, 1)).show()"
   ]
  },
  {
   "cell_type": "markdown",
   "metadata": {},
   "source": [
    "### Pairwise Frequency"
   ]
  },
  {
   "cell_type": "code",
   "execution_count": null,
   "metadata": {},
   "outputs": [],
   "source": [
    "#Pairwise Frequency for categorical variables\n",
    "df_data_1.crosstab('Department', 'salary').show()"
   ]
  },
  {
   "cell_type": "code",
   "execution_count": null,
   "metadata": {},
   "outputs": [],
   "source": [
    "df_data_1.crosstab('attrition', 'salary').show()"
   ]
  },
  {
   "cell_type": "code",
   "execution_count": null,
   "metadata": {},
   "outputs": [],
   "source": [
    "df_data_1.crosstab('attrition', 'promotion_last_5years').show()"
   ]
  },
  {
   "cell_type": "markdown",
   "metadata": {},
   "source": [
    "### GroupBy"
   ]
  },
  {
   "cell_type": "code",
   "execution_count": null,
   "metadata": {},
   "outputs": [],
   "source": [
    "#Number of employees in each department\n",
    "df_data_1.groupby('Department').count().show()"
   ]
  },
  {
   "cell_type": "code",
   "execution_count": null,
   "metadata": {},
   "outputs": [],
   "source": [
    "#sort the output by count descending\n",
    "df_data_1.groupby('Department').count().sort('count', ascending=False).show()"
   ]
  },
  {
   "cell_type": "code",
   "execution_count": null,
   "metadata": {},
   "outputs": [],
   "source": [
    "# Average job satisfaction in each department\n",
    "df_data_1.groupby(['Department'])\\\n",
    ".agg({\"satisfaction_level\": \"AVG\"}).show()\n",
    "# Average job satisfaction in each department per salary level\n",
    "df_data_1.groupby(['Department', 'salary'])\\\n",
    ".agg({\"satisfaction_level\": \"AVG\"}).show()"
   ]
  },
  {
   "cell_type": "markdown",
   "metadata": {},
   "source": [
    "### <span style=\"color:red\">Graded Exercise 5</span>\n",
    "Write and run the code to return the average job satisfaction for each salary level.  Display the salary level and corresponding average satisfaction."
   ]
  },
  {
   "cell_type": "code",
   "execution_count": null,
   "metadata": {},
   "outputs": [],
   "source": []
  },
  {
   "cell_type": "markdown",
   "metadata": {},
   "source": [
    "### Plot Average Job Satisfaction per department"
   ]
  },
  {
   "cell_type": "code",
   "execution_count": null,
   "metadata": {},
   "outputs": [],
   "source": [
    "dasl=df_data_1.groupby(['Department'])\\\n",
    ".agg({\"satisfaction_level\": \"AVG\"}).collect()\n",
    "\n",
    "depart=[]\n",
    "satisfaction=[]\n",
    "for row in dasl:\n",
    "     depart.append(row[\"Department\"])\n",
    "     satisfaction.append(row[\"avg(satisfaction_level)\"])"
   ]
  },
  {
   "cell_type": "code",
   "execution_count": null,
   "metadata": {},
   "outputs": [],
   "source": [
    "%matplotlib inline\n",
    "import numpy as np\n",
    "import matplotlib.pyplot as plt\n",
    "\n",
    "N = 10\n",
    "index = np.arange(N)  \n",
    "bar_width = 0.5\n",
    "\n",
    "plt.bar(index, satisfaction, bar_width,\n",
    "                 color='b')\n",
    "plt.xlabel('Department')\n",
    "plt.ylabel('Average Satisfaction')\n",
    "plt.title('Average Job Satisfaction per Department')\n",
    "plt.xticks(index + bar_width/2, depart, rotation=90)\n",
    "plt.show()\n"
   ]
  },
  {
   "cell_type": "markdown",
   "metadata": {},
   "source": [
    "<a id=\"use_spark_sql\"></a>\n",
    "## Use Spark SQL\n",
    "\n",
    "`Spark SQL` lets you query structured data, for example, data in a relational table and can be a very powerful tool for performing complex aggregations.\n",
    "\n",
    "To create a relational table that you can query using `Spark SQL` and fill it with employee data, you'll use the `Row` class from the `pyspark.sql` package. You will use every line in the `df_data_1` DataFrame to create a row object. Each of the row's attributes will be used to access the value of each column."
   ]
  },
  {
   "cell_type": "code",
   "execution_count": null,
   "metadata": {},
   "outputs": [],
   "source": [
    "from pyspark.sql import SQLContext, Row\n",
    "sqlContext = SQLContext(sc)\n",
    "df_data_1.createOrReplaceTempView(\"ea\")\n",
    "sqlContext.cacheTable(\"ea\")"
   ]
  },
  {
   "cell_type": "code",
   "execution_count": null,
   "metadata": {},
   "outputs": [],
   "source": [
    "# Column 1 - Department\n",
    "# Column 2 - Number of employees who worked for the department in column 1 and left\n",
    "empl1 = sqlContext.sql(\"SELECT department, COUNT(*) AS numemp FROM ea WHERE Attrition=1 GROUP BY department ORDER BY upper(department)\").collect()\n",
    "for row in empl1:\n",
    "    print (row)"
   ]
  },
  {
   "cell_type": "code",
   "execution_count": null,
   "metadata": {},
   "outputs": [],
   "source": [
    "# Column 1 - Department\n",
    "# Column 2 - Number of retained employees from the department in column 1\n",
    "empl0 = sqlContext.sql(\"SELECT department, COUNT(*) AS numemp FROM ea WHERE Attrition=0 GROUP BY department ORDER BY upper(department)\").collect()"
   ]
  },
  {
   "cell_type": "code",
   "execution_count": null,
   "metadata": {},
   "outputs": [],
   "source": [
    "for row in empl0:\n",
    "    print (row)"
   ]
  },
  {
   "cell_type": "code",
   "execution_count": null,
   "metadata": {},
   "outputs": [],
   "source": [
    "department=[]\n",
    "Attrition0=[]\n",
    "Attrition1=[]\n",
    "for row in empl0:\n",
    "     department.append(row.department)\n",
    "     Attrition0.append(row.numemp)\n",
    "\n",
    "for row in empl1:\n",
    "    Attrition1.append(row.numemp)"
   ]
  },
  {
   "cell_type": "markdown",
   "metadata": {},
   "source": [
    "Use the bar() function to plot a vertical bar chart."
   ]
  },
  {
   "cell_type": "code",
   "execution_count": null,
   "metadata": {},
   "outputs": [],
   "source": [
    "%matplotlib inline\n",
    "import matplotlib\n",
    "import numpy as np\n",
    "import matplotlib.pyplot as plt\n",
    "\n",
    "N=10\n",
    "ind=np.arange(N)\n",
    "width = 0.35\n",
    "ea0 = plt.bar(ind, Attrition0, width, color='g', label='Retained')\n",
    "ea1 = plt.bar(ind+width, Attrition1, width, color='y', label='Left')\n",
    "plt.ylabel('Number of Employees')\n",
    "plt.xlabel('Department')\n",
    "plt.title('Number of Retained and Not Retained Employees per Department', fontsize=15)\n",
    "plt.xticks(ind+width/2, department, rotation='vertical')\n",
    "plt.legend()\n",
    "plt.show()"
   ]
  },
  {
   "cell_type": "markdown",
   "metadata": {},
   "source": [
    "You can create a pie chart with the pie() function. The function does not display legends or label names by default. You can use the input parameters to change the default colors, set legends, labels, the starting angle, shadowing, and whether any section is exploded.\n",
    "\n",
    "The default starting angle is 0, which starts the first slice on the x-axis. If you set startangle=90, the first slice starts on the positive y-axis."
   ]
  },
  {
   "cell_type": "code",
   "execution_count": null,
   "metadata": {
    "scrolled": true
   },
   "outputs": [],
   "source": [
    "import matplotlib.pyplot as plt\n",
    "%matplotlib inline\n",
    "import numpy as np\n",
    "\n",
    "data = Attrition1  \n",
    "labels = department\n",
    "plt.figure(1, figsize=(6,6))  # make it square\n",
    "colors = ['yellowgreen', 'gold', 'lightskyblue', \n",
    "          'lightcoral', 'green', 'red', 'purple', 'cyan', 'magenta', 'orange']\n",
    "plt.pie(data, labels=labels, colors= colors, startangle=90)\n",
    "plt.title('Attrition by Department')\n",
    "plt.show()"
   ]
  },
  {
   "cell_type": "markdown",
   "metadata": {},
   "source": [
    "### <span style=\"color:red\">Graded Exercise 6</span>\n",
    "Use Spark SQL to return <br>\n",
    "Column 1 - salary level <br>\n",
    "Column 2 - number of employees with a salary level in column 1"
   ]
  },
  {
   "cell_type": "code",
   "execution_count": null,
   "metadata": {},
   "outputs": [],
   "source": []
  },
  {
   "cell_type": "markdown",
   "metadata": {
    "scrolled": true
   },
   "source": [
    "**Navigate to Manage -> Environmental Runtimes and record 1) Total account capacity unit hours used and 2) Remaining account capacity unit hours on the Spark Tutorial answer sheet. 3) Answer the follow up questions on the assignment answer sheet**"
   ]
  },
  {
   "cell_type": "markdown",
   "metadata": {},
   "source": [
    "### <span style=\"color:Blue\">Ungraded Exercise 1</span>\n",
    "Use Spark SQL to return <br> \n",
    "Column 1 - department name <br>\n",
    "Column 2 - salary level  <br>\n",
    "Column 3 - number of retained employees who work for the department in column 1 and have a salary level in column 2 <br>\n",
    "Sort the retuned data by department name"
   ]
  },
  {
   "cell_type": "code",
   "execution_count": null,
   "metadata": {},
   "outputs": [],
   "source": []
  },
  {
   "cell_type": "markdown",
   "metadata": {},
   "source": [
    "### <span style=\"color:Blue\">Ungraded Exercise 2</span>\n",
    "Use Spark SQL to return <br> \n",
    "Column 1 - department name <br>\n",
    "Column 2 - salary level  <br>\n",
    "Column 3 - attrition<br>\n",
    "Column 4 - number of employees who work/worked for the department in column 1 with a salary level in column 2 and attrition status in column 3 <br>\n",
    "Sort the retuned data by department name"
   ]
  },
  {
   "cell_type": "code",
   "execution_count": null,
   "metadata": {},
   "outputs": [],
   "source": []
  },
  {
   "cell_type": "markdown",
   "metadata": {},
   "source": [
    "### <span style=\"color:Blue\">Ungraded Exercise 3</span>\n",
    "Use Spark SQL to return <br> \n",
    "Column 1 - department name <br>\n",
    "Column 2 - number of retained employees from department in column 1 <br>\n",
    "Column 3 - number of employees who left from department in column 1 <br>\n",
    "Column 4 - total number of employees from department in column 1 <br>\n",
    "Sort the retuned data by department name"
   ]
  },
  {
   "cell_type": "code",
   "execution_count": null,
   "metadata": {},
   "outputs": [],
   "source": []
  }
 ],
 "metadata": {
  "kernelspec": {
   "display_name": "Python 3.9 with Spark",
   "language": "python3",
   "name": "python39"
  },
  "language_info": {
   "codemirror_mode": {
    "name": "ipython",
    "version": 3
   },
   "file_extension": ".py",
   "mimetype": "text/x-python",
   "name": "python",
   "nbconvert_exporter": "python",
   "pygments_lexer": "ipython3",
   "version": "3.9.7"
  }
 },
 "nbformat": 4,
 "nbformat_minor": 1
}
